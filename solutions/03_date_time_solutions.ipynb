{
 "cells": [
  {
   "cell_type": "markdown",
   "metadata": {},
   "source": [
    "# Date & time in pandas"
   ]
  },
  {
   "cell_type": "markdown",
   "metadata": {},
   "source": [
    "Topics we will cover:\n",
    "* Converting datetime columns\n",
    "* Date and time as index\n",
    "* Computing statistics using dates & time\n",
    "* Shift\n",
    "* Resampling\n",
    "* .dt accessor\n"
   ]
  },
  {
   "cell_type": "markdown",
   "metadata": {},
   "source": [
    "For this notebook we will use some data we downloaded from data.amsterdam.nl, which is a super useful website for getting open source data about Amsterdam! It's about the airquality in Amsterdam.\n",
    "\n",
    "We have downloaded data from 01/01/2019 until 04/11/2019 for the location Amsterdam Vondelpark. It contains data about 7 airquality components: carbon monoxide (CO), nitric oxide (NO), ozone (O3),  fluorine nitrogen (FN), particulate matter (PM10 and PM25), nitrogen dioxide (NO2). It also contains a column called 'airquality_index' which is an index from 1 to 11 representing the public health impact of air pollution (1 = low risk, 11 = very high risk).\n",
    "\n",
    "Link to data:\n",
    "https://data.amsterdam.nl/datasets/Jlag-G3UBN4sHA/luchtkwaliteit/\n",
    "\n",
    "More information on the data and airquality:\n",
    "https://www.luchtmeetnet.nl/uitleg"
   ]
  },
  {
   "cell_type": "markdown",
   "metadata": {},
   "source": [
    "## 0. Load data"
   ]
  },
  {
   "cell_type": "code",
   "execution_count": 1,
   "metadata": {},
   "outputs": [],
   "source": [
    "import datetime\n",
    "import matplotlib\n",
    "import pandas as pd\n",
    "\n",
    "%matplotlib inline"
   ]
  },
  {
   "cell_type": "code",
   "execution_count": 2,
   "metadata": {},
   "outputs": [],
   "source": [
    "airquality = pd.read_csv(\"../workshop/data/airquality.csv\", delimiter=\";\", decimal=\",\")\n",
    "\n",
    "# rename columns from Dutch to English\n",
    "airquality.columns = [\"time\", \"location\", \"component\", \"value\", \"airquality_index\"]"
   ]
  },
  {
   "cell_type": "code",
   "execution_count": 3,
   "metadata": {},
   "outputs": [
    {
     "data": {
      "text/plain": [
       "(45459, 5)"
      ]
     },
     "execution_count": 3,
     "metadata": {},
     "output_type": "execute_result"
    }
   ],
   "source": [
    "airquality.shape"
   ]
  },
  {
   "cell_type": "code",
   "execution_count": 4,
   "metadata": {},
   "outputs": [
    {
     "data": {
      "text/html": [
       "<div>\n",
       "<style scoped>\n",
       "    .dataframe tbody tr th:only-of-type {\n",
       "        vertical-align: middle;\n",
       "    }\n",
       "\n",
       "    .dataframe tbody tr th {\n",
       "        vertical-align: top;\n",
       "    }\n",
       "\n",
       "    .dataframe thead th {\n",
       "        text-align: right;\n",
       "    }\n",
       "</style>\n",
       "<table border=\"1\" class=\"dataframe\">\n",
       "  <thead>\n",
       "    <tr style=\"text-align: right;\">\n",
       "      <th></th>\n",
       "      <th>time</th>\n",
       "      <th>location</th>\n",
       "      <th>component</th>\n",
       "      <th>value</th>\n",
       "      <th>airquality_index</th>\n",
       "    </tr>\n",
       "  </thead>\n",
       "  <tbody>\n",
       "    <tr>\n",
       "      <th>0</th>\n",
       "      <td>2019-01-01 01:00:00+01:00</td>\n",
       "      <td>Amsterdam-Vondelpark</td>\n",
       "      <td>CO</td>\n",
       "      <td>298.1</td>\n",
       "      <td>2</td>\n",
       "    </tr>\n",
       "    <tr>\n",
       "      <th>1</th>\n",
       "      <td>2019-01-01 01:00:00+01:00</td>\n",
       "      <td>Amsterdam-Vondelpark</td>\n",
       "      <td>NO</td>\n",
       "      <td>5.2</td>\n",
       "      <td>1</td>\n",
       "    </tr>\n",
       "  </tbody>\n",
       "</table>\n",
       "</div>"
      ],
      "text/plain": [
       "                        time              location component  value  \\\n",
       "0  2019-01-01 01:00:00+01:00  Amsterdam-Vondelpark        CO  298.1   \n",
       "1  2019-01-01 01:00:00+01:00  Amsterdam-Vondelpark        NO    5.2   \n",
       "\n",
       "   airquality_index  \n",
       "0                 2  \n",
       "1                 1  "
      ]
     },
     "execution_count": 4,
     "metadata": {},
     "output_type": "execute_result"
    }
   ],
   "source": [
    "airquality.head(2)"
   ]
  },
  {
   "cell_type": "markdown",
   "metadata": {},
   "source": [
    "We can already foresee a problem here looking at the time column, namely that it appears to have a timezone"
   ]
  },
  {
   "cell_type": "code",
   "execution_count": 5,
   "metadata": {},
   "outputs": [
    {
     "data": {
      "text/plain": [
       "time                 object\n",
       "location             object\n",
       "component            object\n",
       "value               float64\n",
       "airquality_index      int64\n",
       "dtype: object"
      ]
     },
     "execution_count": 5,
     "metadata": {},
     "output_type": "execute_result"
    }
   ],
   "source": [
    "airquality.dtypes"
   ]
  },
  {
   "cell_type": "markdown",
   "metadata": {},
   "source": [
    "Note that the time column is inferred as an 'object' column by pandas"
   ]
  },
  {
   "cell_type": "markdown",
   "metadata": {},
   "source": [
    "## 1. Converting timestamp columns"
   ]
  },
  {
   "cell_type": "markdown",
   "metadata": {},
   "source": [
    "### 1.1 String to timestamp"
   ]
  },
  {
   "cell_type": "code",
   "execution_count": 6,
   "metadata": {},
   "outputs": [],
   "source": [
    "# Try to convert the 'time' column to a datetime column using pd.to_datetime\n",
    "\n",
    "airquality[\"time\"] = pd.to_datetime(airquality[\"time\"])"
   ]
  },
  {
   "cell_type": "markdown",
   "metadata": {},
   "source": [
    "You could get the following error:\n",
    "\n",
    "`ValueError: Tz-aware datetime.datetime cannot be converted to datetime64 unless utc=True`\n",
    "\n",
    "You can read more about timezones & pandas here: https://pandas.pydata.org/pandas-docs/stable/user_guide/timeseries.html#time-zone-handling\n",
    "\n",
    "Let's try to convert the time column again, now using utc=True. Also, let's do it in a nicer way by specifying a format. In addition to the required datetime string, you can pass a format argument to ensure specific parsing. This could also potentially speed up the conversion considerably.\n",
    "\n",
    "You can find an overview of formats here: https://docs.python.org/3/library/datetime.html#strftime-and-strptime-behavior"
   ]
  },
  {
   "cell_type": "code",
   "execution_count": 21,
   "metadata": {},
   "outputs": [
    {
     "name": "stdout",
     "output_type": "stream",
     "text": [
      "time                datetime64[ns, UTC]\n",
      "location                         object\n",
      "component                        object\n",
      "value                           float64\n",
      "airquality_index                  int64\n",
      "dtype: object\n"
     ]
    },
    {
     "data": {
      "text/html": [
       "<div>\n",
       "<style scoped>\n",
       "    .dataframe tbody tr th:only-of-type {\n",
       "        vertical-align: middle;\n",
       "    }\n",
       "\n",
       "    .dataframe tbody tr th {\n",
       "        vertical-align: top;\n",
       "    }\n",
       "\n",
       "    .dataframe thead th {\n",
       "        text-align: right;\n",
       "    }\n",
       "</style>\n",
       "<table border=\"1\" class=\"dataframe\">\n",
       "  <thead>\n",
       "    <tr style=\"text-align: right;\">\n",
       "      <th></th>\n",
       "      <th>time</th>\n",
       "      <th>location</th>\n",
       "      <th>component</th>\n",
       "      <th>value</th>\n",
       "      <th>airquality_index</th>\n",
       "    </tr>\n",
       "  </thead>\n",
       "  <tbody>\n",
       "    <tr>\n",
       "      <th>0</th>\n",
       "      <td>2019-01-01 00:00:00+00:00</td>\n",
       "      <td>Amsterdam-Vondelpark</td>\n",
       "      <td>CO</td>\n",
       "      <td>298.1</td>\n",
       "      <td>2</td>\n",
       "    </tr>\n",
       "    <tr>\n",
       "      <th>1</th>\n",
       "      <td>2019-01-01 00:00:00+00:00</td>\n",
       "      <td>Amsterdam-Vondelpark</td>\n",
       "      <td>NO</td>\n",
       "      <td>5.2</td>\n",
       "      <td>1</td>\n",
       "    </tr>\n",
       "  </tbody>\n",
       "</table>\n",
       "</div>"
      ],
      "text/plain": [
       "                       time              location component  value  \\\n",
       "0 2019-01-01 00:00:00+00:00  Amsterdam-Vondelpark        CO  298.1   \n",
       "1 2019-01-01 00:00:00+00:00  Amsterdam-Vondelpark        NO    5.2   \n",
       "\n",
       "   airquality_index  \n",
       "0                 2  \n",
       "1                 1  "
      ]
     },
     "execution_count": 21,
     "metadata": {},
     "output_type": "execute_result"
    }
   ],
   "source": [
    "time_col = [\"time\"]\n",
    "\n",
    "def convert_to_datetime(col, fmt = \"%Y-%m-%d %H:%M:%S\"):\n",
    "    return pd.to_datetime(col, format=fmt, utc=True)\n",
    "\n",
    "airquality[time_col] = airquality[time_col].apply(convert_to_datetime)\n",
    "\n",
    "print(airquality.dtypes)\n",
    "\n",
    "airquality.head(2)"
   ]
  },
  {
   "cell_type": "markdown",
   "metadata": {},
   "source": [
    "Great! Now we have our time column in UTC time and the type of column is datetime64. Pandas datetime columns are always of type `datetime64[ns]` or `datetime64[ns, tz]`."
   ]
  },
  {
   "cell_type": "code",
   "execution_count": 22,
   "metadata": {},
   "outputs": [
    {
     "data": {
      "text/plain": [
       "0       2018-12-31 16:00:00-08:00\n",
       "1       2018-12-31 16:00:00-08:00\n",
       "2       2018-12-31 16:00:00-08:00\n",
       "3       2018-12-31 16:00:00-08:00\n",
       "4       2018-12-31 16:00:00-08:00\n",
       "                   ...           \n",
       "45454   2019-09-30 16:00:00-07:00\n",
       "45455   2019-09-30 16:00:00-07:00\n",
       "45456   2019-09-30 16:00:00-07:00\n",
       "45457   2019-09-30 16:00:00-07:00\n",
       "45458   2019-11-04 05:00:00-08:00\n",
       "Name: time, Length: 45459, dtype: datetime64[ns, US/Pacific]"
      ]
     },
     "execution_count": 22,
     "metadata": {},
     "output_type": "execute_result"
    }
   ],
   "source": [
    "# You can easily convert to other timezones in this way:\n",
    "airquality.time.dt.tz_convert('US/Pacific')"
   ]
  },
  {
   "cell_type": "code",
   "execution_count": 23,
   "metadata": {},
   "outputs": [
    {
     "name": "stdout",
     "output_type": "stream",
     "text": [
      "                     time              location component  value  \\\n",
      "25631 2019-06-03 19:00:00  Amsterdam-Vondelpark        NO    0.0   \n",
      "10723 2019-03-06 18:00:00  Amsterdam-Vondelpark        NO    0.5   \n",
      "\n",
      "       airquality_index  \n",
      "25631                 1  \n",
      "10723                 1  \n"
     ]
    }
   ],
   "source": [
    "# Try to remove the timezone information completely.\n",
    "# Save the dataframe and move on to the next section!\n",
    "\n",
    "airquality.time = airquality.time.dt.tz_convert(None)\n",
    "print(airquality.sample(2))"
   ]
  },
  {
   "cell_type": "markdown",
   "metadata": {},
   "source": [
    "### 1.2 Datetime to string"
   ]
  },
  {
   "cell_type": "markdown",
   "metadata": {},
   "source": [
    "There might be reasons for you to want to convert from timestamp back to string. In that case you can use **datetime.strftime**."
   ]
  },
  {
   "cell_type": "code",
   "execution_count": 24,
   "metadata": {},
   "outputs": [
    {
     "name": "stdout",
     "output_type": "stream",
     "text": [
      "                  time              location component  value  \\\n",
      "0  2019-01-01 00:00:00  Amsterdam-Vondelpark        CO  298.1   \n",
      "1  2019-01-01 00:00:00  Amsterdam-Vondelpark        NO    5.2   \n",
      "\n",
      "   airquality_index  \n",
      "0                 2  \n",
      "1                 1  \n",
      "time                 object\n",
      "location             object\n",
      "component            object\n",
      "value               float64\n",
      "airquality_index      int64\n",
      "dtype: object\n"
     ]
    }
   ],
   "source": [
    "# make a copy of the dataframe so we do not alter our original one.\n",
    "airquality_temp = airquality.copy()\n",
    "\n",
    "airquality_temp[\"time\"] = airquality_temp[\"time\"].apply(\n",
    "    lambda x: datetime.datetime.strftime(x, format=\"%Y-%m-%d %H:%M:%S\")\n",
    ")\n",
    "\n",
    "# check results\n",
    "print(airquality_temp.head(2))\n",
    "print(airquality_temp.dtypes)"
   ]
  },
  {
   "cell_type": "markdown",
   "metadata": {},
   "source": [
    "### 1.3 Handling errors"
   ]
  },
  {
   "cell_type": "markdown",
   "metadata": {},
   "source": [
    "Several errors can happen when you try to convert a column to datetime.\n",
    "Pandas lists three ways to deal with them:\n",
    "- `errors='raise'` raise when unparseable\n",
    "- `errors='ignore'` return original input when unparseable\n",
    "- `errors='coerce'` convert unparseable data to `NaT` (not a time)"
   ]
  },
  {
   "cell_type": "markdown",
   "metadata": {},
   "source": [
    "Let's add some errors to our data by changing the timestamp of the first row to a string."
   ]
  },
  {
   "cell_type": "code",
   "execution_count": 45,
   "metadata": {},
   "outputs": [],
   "source": [
    "airquality_errors = airquality.copy()\n",
    "airquality_errors.time.iloc[0] = \"not a time\"\n",
    "print(airquality_errors.iloc[0])"
   ]
  },
  {
   "cell_type": "code",
   "execution_count": 49,
   "metadata": {},
   "outputs": [
    {
     "name": "stdout",
     "output_type": "stream",
     "text": [
      "0                       NaT\n",
      "1       2019-01-01 00:00:00\n",
      "2       2019-01-01 00:00:00\n",
      "3       2019-01-01 00:00:00\n",
      "4       2019-01-01 00:00:00\n",
      "                ...        \n",
      "45454   2019-09-30 23:00:00\n",
      "45455   2019-09-30 23:00:00\n",
      "45456   2019-09-30 23:00:00\n",
      "45457   2019-09-30 23:00:00\n",
      "45458   2019-11-04 13:00:00\n",
      "Name: time, Length: 45459, dtype: datetime64[ns]\n"
     ]
    }
   ],
   "source": [
    "# now try to convert the time column, and try some different options for the errors.\n",
    "print(pd.to_datetime(airquality_errors[\"time\"], errors=\"coerce\"))\n",
    "print(pd.to_datetime(airquality_errors[\"time\"], errors=\"ignore\"))\n",
    "print(pd.to_datetime(airquality_errors[\"time\"], errors=\"raise\"))"
   ]
  },
  {
   "cell_type": "code",
   "execution_count": 49,
   "metadata": {},
   "outputs": [
    {
     "name": "stdout",
     "output_type": "stream",
     "text": [
      "0       1970-01-01 00:00:00.000000298\n",
      "1       1970-01-01 00:00:00.000000005\n",
      "2       1970-01-01 00:00:00.000000030\n",
      "3       1970-01-01 00:00:00.000000003\n",
      "4       1970-01-01 00:00:00.000000425\n",
      "                     ...             \n",
      "45454   1970-01-01 00:00:00.000000266\n",
      "45455   1970-01-01 00:00:00.000000000\n",
      "45456   1970-01-01 00:00:00.000000018\n",
      "45457   1970-01-01 00:00:00.000000023\n",
      "45458   1970-01-01 00:00:00.000000186\n",
      "Name: value, Length: 45459, dtype: datetime64[ns]\n"
     ]
    }
   ],
   "source": [
    "# now try to convert a column with numbers, say 'value', and see what happens\n",
    "print(pd.to_datetime(airquality[\"value\"]))"
   ]
  },
  {
   "cell_type": "markdown",
   "metadata": {},
   "source": [
    "That's pretty odd! No matter what error option we specify, the column will still be converted to unix timestamp!\n"
   ]
  },
  {
   "cell_type": "markdown",
   "metadata": {},
   "source": [
    "The main take-away is that converting columns to datetime can be tricky, and you should always be careful when doing so. It's important to check you columns before and after, to make sure the converting succeeded."
   ]
  },
  {
   "cell_type": "markdown",
   "metadata": {},
   "source": [
    "### 1.4 Timestamp to epoch"
   ]
  },
  {
   "cell_type": "markdown",
   "metadata": {},
   "source": [
    "As we saw before, Pandas can convert a column to unix timestamp. The unix time stamp is a way to track time as a running total of seconds since the epoch. Pandas stores timestamp with nanoseconds resolution. The epoch is defined as January 1st, 1970 at UTC."
   ]
  },
  {
   "cell_type": "code",
   "execution_count": 57,
   "metadata": {},
   "outputs": [
    {
     "name": "stdout",
     "output_type": "stream",
     "text": [
      "                     time     time_unix\n",
      "40758 2019-09-02 18:00:00  1.567447e+09\n",
      "4092  2019-01-26 01:00:00  1.548464e+09\n",
      "10868 2019-03-07 14:00:00  1.551967e+09\n"
     ]
    }
   ],
   "source": [
    "# convert our column 'time' from timestamp to unix time\n",
    "# 1) make a new column 'time_unix', \n",
    "# 2) cast the timestamp to integer using .astype(int), \n",
    "# 3) convert the column from nanoseconds to seconds\n",
    "\n",
    "airquality[\"time_unix\"] = airquality.time.astype(int) / 1e9\n",
    "print(airquality[[\"time\", \"time_unix\"]].sample(3))"
   ]
  },
  {
   "cell_type": "markdown",
   "metadata": {},
   "source": [
    "### 1.5 Creating timestamps"
   ]
  },
  {
   "cell_type": "markdown",
   "metadata": {},
   "source": [
    "You can create your own Pandas timestamps in several ways"
   ]
  },
  {
   "cell_type": "code",
   "execution_count": 63,
   "metadata": {},
   "outputs": [
    {
     "data": {
      "text/plain": [
       "Timestamp('2019-11-28 00:00:00')"
      ]
     },
     "execution_count": 63,
     "metadata": {},
     "output_type": "execute_result"
    }
   ],
   "source": [
    "# Use `datetime.datetime` and `pd.Timestamp` to create a Pandas timestamp\n",
    "pd.Timestamp(datetime.datetime(2019,11,28))"
   ]
  },
  {
   "cell_type": "code",
   "execution_count": 59,
   "metadata": {},
   "outputs": [
    {
     "data": {
      "text/plain": [
       "Timestamp('2018-01-05 00:00:00')"
      ]
     },
     "execution_count": 59,
     "metadata": {},
     "output_type": "execute_result"
    }
   ],
   "source": [
    "# Use plain strings\n",
    "pd.Timestamp('2018-01-05')"
   ]
  },
  {
   "cell_type": "code",
   "execution_count": 60,
   "metadata": {},
   "outputs": [
    {
     "data": {
      "text/plain": [
       "Timestamp('2012-05-01 00:00:00')"
      ]
     },
     "execution_count": 60,
     "metadata": {},
     "output_type": "execute_result"
    }
   ],
   "source": [
    "# Or just use `pd.Timestamp` as is\n",
    "pd.Timestamp(2012, 5, 1)"
   ]
  },
  {
   "cell_type": "code",
   "execution_count": 61,
   "metadata": {},
   "outputs": [
    {
     "data": {
      "text/plain": [
       "DatetimeIndex(['2018-01-01 00:00:00', '2018-01-01 01:00:00',\n",
       "               '2018-01-01 02:00:00'],\n",
       "              dtype='datetime64[ns]', freq='H')"
      ]
     },
     "execution_count": 61,
     "metadata": {},
     "output_type": "execute_result"
    }
   ],
   "source": [
    "# Generate sequences of fixed-frequency dates and time spans\n",
    "pd.date_range('2018-01-01', periods=3, freq='H')"
   ]
  },
  {
   "cell_type": "code",
   "execution_count": 62,
   "metadata": {},
   "outputs": [
    {
     "data": {
      "text/plain": [
       "PeriodIndex(['2011-01', '2011-02', '2011-03'], dtype='period[M]', freq='M')"
      ]
     },
     "execution_count": 62,
     "metadata": {},
     "output_type": "execute_result"
    }
   ],
   "source": [
    "pd.period_range('1/1/2011', freq='M', periods=3)"
   ]
  },
  {
   "cell_type": "markdown",
   "metadata": {},
   "source": [
    "Try to create some example dataframes with different indexes, which you create by using the options above!"
   ]
  },
  {
   "cell_type": "code",
   "execution_count": 64,
   "metadata": {},
   "outputs": [
    {
     "data": {
      "text/html": [
       "<div>\n",
       "<style scoped>\n",
       "    .dataframe tbody tr th:only-of-type {\n",
       "        vertical-align: middle;\n",
       "    }\n",
       "\n",
       "    .dataframe tbody tr th {\n",
       "        vertical-align: top;\n",
       "    }\n",
       "\n",
       "    .dataframe thead th {\n",
       "        text-align: right;\n",
       "    }\n",
       "</style>\n",
       "<table border=\"1\" class=\"dataframe\">\n",
       "  <thead>\n",
       "    <tr style=\"text-align: right;\">\n",
       "      <th></th>\n",
       "      <th>a</th>\n",
       "      <th>b</th>\n",
       "    </tr>\n",
       "  </thead>\n",
       "  <tbody>\n",
       "    <tr>\n",
       "      <th>2018-01-01 00:00:00</th>\n",
       "      <td>1</td>\n",
       "      <td>4</td>\n",
       "    </tr>\n",
       "    <tr>\n",
       "      <th>2018-01-01 01:00:00</th>\n",
       "      <td>2</td>\n",
       "      <td>5</td>\n",
       "    </tr>\n",
       "    <tr>\n",
       "      <th>2018-01-01 02:00:00</th>\n",
       "      <td>3</td>\n",
       "      <td>6</td>\n",
       "    </tr>\n",
       "  </tbody>\n",
       "</table>\n",
       "</div>"
      ],
      "text/plain": [
       "                     a  b\n",
       "2018-01-01 00:00:00  1  4\n",
       "2018-01-01 01:00:00  2  5\n",
       "2018-01-01 02:00:00  3  6"
      ]
     },
     "execution_count": 64,
     "metadata": {},
     "output_type": "execute_result"
    }
   ],
   "source": [
    "example_index = pd.date_range('2018-01-01', periods=3, freq='H')\n",
    "pd.DataFrame({\"a\": [1,2,3], \"b\": [4,5,6]}, index=example_index)"
   ]
  },
  {
   "cell_type": "code",
   "execution_count": 65,
   "metadata": {},
   "outputs": [
    {
     "data": {
      "text/html": [
       "<div>\n",
       "<style scoped>\n",
       "    .dataframe tbody tr th:only-of-type {\n",
       "        vertical-align: middle;\n",
       "    }\n",
       "\n",
       "    .dataframe tbody tr th {\n",
       "        vertical-align: top;\n",
       "    }\n",
       "\n",
       "    .dataframe thead th {\n",
       "        text-align: right;\n",
       "    }\n",
       "</style>\n",
       "<table border=\"1\" class=\"dataframe\">\n",
       "  <thead>\n",
       "    <tr style=\"text-align: right;\">\n",
       "      <th></th>\n",
       "      <th>a</th>\n",
       "      <th>b</th>\n",
       "    </tr>\n",
       "  </thead>\n",
       "  <tbody>\n",
       "    <tr>\n",
       "      <th>2011-01</th>\n",
       "      <td>100</td>\n",
       "      <td>200</td>\n",
       "    </tr>\n",
       "    <tr>\n",
       "      <th>2011-02</th>\n",
       "      <td>100</td>\n",
       "      <td>200</td>\n",
       "    </tr>\n",
       "    <tr>\n",
       "      <th>2011-03</th>\n",
       "      <td>100</td>\n",
       "      <td>200</td>\n",
       "    </tr>\n",
       "    <tr>\n",
       "      <th>2011-04</th>\n",
       "      <td>100</td>\n",
       "      <td>200</td>\n",
       "    </tr>\n",
       "    <tr>\n",
       "      <th>2011-05</th>\n",
       "      <td>100</td>\n",
       "      <td>200</td>\n",
       "    </tr>\n",
       "    <tr>\n",
       "      <th>2011-06</th>\n",
       "      <td>100</td>\n",
       "      <td>200</td>\n",
       "    </tr>\n",
       "    <tr>\n",
       "      <th>2011-07</th>\n",
       "      <td>100</td>\n",
       "      <td>200</td>\n",
       "    </tr>\n",
       "    <tr>\n",
       "      <th>2011-08</th>\n",
       "      <td>100</td>\n",
       "      <td>200</td>\n",
       "    </tr>\n",
       "    <tr>\n",
       "      <th>2011-09</th>\n",
       "      <td>100</td>\n",
       "      <td>200</td>\n",
       "    </tr>\n",
       "    <tr>\n",
       "      <th>2011-10</th>\n",
       "      <td>100</td>\n",
       "      <td>200</td>\n",
       "    </tr>\n",
       "    <tr>\n",
       "      <th>2011-11</th>\n",
       "      <td>100</td>\n",
       "      <td>200</td>\n",
       "    </tr>\n",
       "    <tr>\n",
       "      <th>2011-12</th>\n",
       "      <td>100</td>\n",
       "      <td>200</td>\n",
       "    </tr>\n",
       "  </tbody>\n",
       "</table>\n",
       "</div>"
      ],
      "text/plain": [
       "           a    b\n",
       "2011-01  100  200\n",
       "2011-02  100  200\n",
       "2011-03  100  200\n",
       "2011-04  100  200\n",
       "2011-05  100  200\n",
       "2011-06  100  200\n",
       "2011-07  100  200\n",
       "2011-08  100  200\n",
       "2011-09  100  200\n",
       "2011-10  100  200\n",
       "2011-11  100  200\n",
       "2011-12  100  200"
      ]
     },
     "execution_count": 65,
     "metadata": {},
     "output_type": "execute_result"
    }
   ],
   "source": [
    "example_index = pd.period_range('1/1/2011', freq='M', periods=12)\n",
    "pd.DataFrame({\"a\": [100]*12, \"b\": [200]*12}, index=example_index)"
   ]
  },
  {
   "cell_type": "markdown",
   "metadata": {},
   "source": [
    "## 2. Use datetime as index"
   ]
  },
  {
   "cell_type": "markdown",
   "metadata": {},
   "source": [
    "Now that we succesfully converted our column to datetime we can do some useful stuff with it! One of which is to set our datetime column as the index of our dataframe. Pros according to Pandas:\n",
    "* A large range of dates for various offsets are pre-computed and cached under the hood in order to make generating subsequent date ranges very fast (just have to grab a slice).\n",
    "* Fast shifting using the `shift` and `tshift` method on pandas objects.\n",
    "* Unioning of overlapping `DatetimeIndex` objects with the same frequency is very fast (important for fast data alignment).\n",
    "* Quick access to date fields via properties such as `year`, `month`, etc.\n",
    "* Regularization functions like `snap` and very fast `asof` logic.\n"
   ]
  },
  {
   "cell_type": "code",
   "execution_count": 93,
   "metadata": {},
   "outputs": [],
   "source": [
    "# Make a copy of our origin dataframe\n",
    "# Filter the dataframe on component == \"CO\"\n",
    "# Set the datetime column as an index of your dataframe\n",
    "airquality_indexed = airquality.copy()\n",
    "airquality_indexed = airquality_indexed.loc[airquality_indexed.component == \"CO\"]\n",
    "airquality_indexed = airquality_indexed.set_index(\"time\")"
   ]
  },
  {
   "cell_type": "code",
   "execution_count": 94,
   "metadata": {},
   "outputs": [
    {
     "data": {
      "text/html": [
       "<div>\n",
       "<style scoped>\n",
       "    .dataframe tbody tr th:only-of-type {\n",
       "        vertical-align: middle;\n",
       "    }\n",
       "\n",
       "    .dataframe tbody tr th {\n",
       "        vertical-align: top;\n",
       "    }\n",
       "\n",
       "    .dataframe thead th {\n",
       "        text-align: right;\n",
       "    }\n",
       "</style>\n",
       "<table border=\"1\" class=\"dataframe\">\n",
       "  <thead>\n",
       "    <tr style=\"text-align: right;\">\n",
       "      <th></th>\n",
       "      <th>location</th>\n",
       "      <th>component</th>\n",
       "      <th>value</th>\n",
       "      <th>airquality_index</th>\n",
       "      <th>time_unix</th>\n",
       "    </tr>\n",
       "    <tr>\n",
       "      <th>time</th>\n",
       "      <th></th>\n",
       "      <th></th>\n",
       "      <th></th>\n",
       "      <th></th>\n",
       "      <th></th>\n",
       "    </tr>\n",
       "  </thead>\n",
       "  <tbody>\n",
       "    <tr>\n",
       "      <th>2019-03-16 18:00:00</th>\n",
       "      <td>Amsterdam-Vondelpark</td>\n",
       "      <td>CO</td>\n",
       "      <td>296.4</td>\n",
       "      <td>2</td>\n",
       "      <td>1.552759e+09</td>\n",
       "    </tr>\n",
       "    <tr>\n",
       "      <th>2019-04-13 18:00:00</th>\n",
       "      <td>Amsterdam-Vondelpark</td>\n",
       "      <td>CO</td>\n",
       "      <td>303.1</td>\n",
       "      <td>2</td>\n",
       "      <td>1.555178e+09</td>\n",
       "    </tr>\n",
       "  </tbody>\n",
       "</table>\n",
       "</div>"
      ],
      "text/plain": [
       "                                 location component  value  airquality_index  \\\n",
       "time                                                                           \n",
       "2019-03-16 18:00:00  Amsterdam-Vondelpark        CO  296.4                 2   \n",
       "2019-04-13 18:00:00  Amsterdam-Vondelpark        CO  303.1                 2   \n",
       "\n",
       "                        time_unix  \n",
       "time                               \n",
       "2019-03-16 18:00:00  1.552759e+09  \n",
       "2019-04-13 18:00:00  1.555178e+09  "
      ]
     },
     "execution_count": 94,
     "metadata": {},
     "output_type": "execute_result"
    }
   ],
   "source": [
    "airquality_indexed.sample(2)"
   ]
  },
  {
   "cell_type": "code",
   "execution_count": 95,
   "metadata": {},
   "outputs": [
    {
     "data": {
      "text/plain": [
       "location            Amsterdam-Vondelpark\n",
       "component                             CO\n",
       "value                              298.1\n",
       "airquality_index                       2\n",
       "time_unix                     1.5463e+09\n",
       "Name: 2019-01-01 00:00:00, dtype: object"
      ]
     },
     "execution_count": 95,
     "metadata": {},
     "output_type": "execute_result"
    }
   ],
   "source": [
    "# you can use one date to index\n",
    "airquality_indexed.loc[datetime.datetime(2019,1,1),:]"
   ]
  },
  {
   "cell_type": "code",
   "execution_count": 96,
   "metadata": {},
   "outputs": [
    {
     "data": {
      "text/html": [
       "<div>\n",
       "<style scoped>\n",
       "    .dataframe tbody tr th:only-of-type {\n",
       "        vertical-align: middle;\n",
       "    }\n",
       "\n",
       "    .dataframe tbody tr th {\n",
       "        vertical-align: top;\n",
       "    }\n",
       "\n",
       "    .dataframe thead th {\n",
       "        text-align: right;\n",
       "    }\n",
       "</style>\n",
       "<table border=\"1\" class=\"dataframe\">\n",
       "  <thead>\n",
       "    <tr style=\"text-align: right;\">\n",
       "      <th></th>\n",
       "      <th>location</th>\n",
       "      <th>component</th>\n",
       "      <th>value</th>\n",
       "      <th>airquality_index</th>\n",
       "      <th>time_unix</th>\n",
       "    </tr>\n",
       "    <tr>\n",
       "      <th>time</th>\n",
       "      <th></th>\n",
       "      <th></th>\n",
       "      <th></th>\n",
       "      <th></th>\n",
       "      <th></th>\n",
       "    </tr>\n",
       "  </thead>\n",
       "  <tbody>\n",
       "    <tr>\n",
       "      <th>2019-01-01 00:00:00</th>\n",
       "      <td>Amsterdam-Vondelpark</td>\n",
       "      <td>CO</td>\n",
       "      <td>298.1</td>\n",
       "      <td>2</td>\n",
       "      <td>1.546301e+09</td>\n",
       "    </tr>\n",
       "    <tr>\n",
       "      <th>2019-01-01 01:00:00</th>\n",
       "      <td>Amsterdam-Vondelpark</td>\n",
       "      <td>CO</td>\n",
       "      <td>287.7</td>\n",
       "      <td>2</td>\n",
       "      <td>1.546304e+09</td>\n",
       "    </tr>\n",
       "    <tr>\n",
       "      <th>2019-01-01 02:00:00</th>\n",
       "      <td>Amsterdam-Vondelpark</td>\n",
       "      <td>CO</td>\n",
       "      <td>244.6</td>\n",
       "      <td>1</td>\n",
       "      <td>1.546308e+09</td>\n",
       "    </tr>\n",
       "    <tr>\n",
       "      <th>2019-01-01 03:00:00</th>\n",
       "      <td>Amsterdam-Vondelpark</td>\n",
       "      <td>CO</td>\n",
       "      <td>219.9</td>\n",
       "      <td>1</td>\n",
       "      <td>1.546312e+09</td>\n",
       "    </tr>\n",
       "    <tr>\n",
       "      <th>2019-01-01 04:00:00</th>\n",
       "      <td>Amsterdam-Vondelpark</td>\n",
       "      <td>CO</td>\n",
       "      <td>214.5</td>\n",
       "      <td>1</td>\n",
       "      <td>1.546315e+09</td>\n",
       "    </tr>\n",
       "    <tr>\n",
       "      <th>2019-01-01 05:00:00</th>\n",
       "      <td>Amsterdam-Vondelpark</td>\n",
       "      <td>CO</td>\n",
       "      <td>207.9</td>\n",
       "      <td>1</td>\n",
       "      <td>1.546319e+09</td>\n",
       "    </tr>\n",
       "    <tr>\n",
       "      <th>2019-01-01 06:00:00</th>\n",
       "      <td>Amsterdam-Vondelpark</td>\n",
       "      <td>CO</td>\n",
       "      <td>202.4</td>\n",
       "      <td>1</td>\n",
       "      <td>1.546322e+09</td>\n",
       "    </tr>\n",
       "    <tr>\n",
       "      <th>2019-01-01 07:00:00</th>\n",
       "      <td>Amsterdam-Vondelpark</td>\n",
       "      <td>CO</td>\n",
       "      <td>200.6</td>\n",
       "      <td>1</td>\n",
       "      <td>1.546326e+09</td>\n",
       "    </tr>\n",
       "    <tr>\n",
       "      <th>2019-01-01 08:00:00</th>\n",
       "      <td>Amsterdam-Vondelpark</td>\n",
       "      <td>CO</td>\n",
       "      <td>216.5</td>\n",
       "      <td>1</td>\n",
       "      <td>1.546330e+09</td>\n",
       "    </tr>\n",
       "    <tr>\n",
       "      <th>2019-01-01 09:00:00</th>\n",
       "      <td>Amsterdam-Vondelpark</td>\n",
       "      <td>CO</td>\n",
       "      <td>223.2</td>\n",
       "      <td>1</td>\n",
       "      <td>1.546333e+09</td>\n",
       "    </tr>\n",
       "    <tr>\n",
       "      <th>2019-01-01 10:00:00</th>\n",
       "      <td>Amsterdam-Vondelpark</td>\n",
       "      <td>CO</td>\n",
       "      <td>241.7</td>\n",
       "      <td>1</td>\n",
       "      <td>1.546337e+09</td>\n",
       "    </tr>\n",
       "    <tr>\n",
       "      <th>2019-01-01 11:00:00</th>\n",
       "      <td>Amsterdam-Vondelpark</td>\n",
       "      <td>CO</td>\n",
       "      <td>242.6</td>\n",
       "      <td>1</td>\n",
       "      <td>1.546340e+09</td>\n",
       "    </tr>\n",
       "    <tr>\n",
       "      <th>2019-01-01 12:00:00</th>\n",
       "      <td>Amsterdam-Vondelpark</td>\n",
       "      <td>CO</td>\n",
       "      <td>240.0</td>\n",
       "      <td>1</td>\n",
       "      <td>1.546344e+09</td>\n",
       "    </tr>\n",
       "    <tr>\n",
       "      <th>2019-01-01 13:00:00</th>\n",
       "      <td>Amsterdam-Vondelpark</td>\n",
       "      <td>CO</td>\n",
       "      <td>236.3</td>\n",
       "      <td>1</td>\n",
       "      <td>1.546348e+09</td>\n",
       "    </tr>\n",
       "    <tr>\n",
       "      <th>2019-01-01 14:00:00</th>\n",
       "      <td>Amsterdam-Vondelpark</td>\n",
       "      <td>CO</td>\n",
       "      <td>238.8</td>\n",
       "      <td>1</td>\n",
       "      <td>1.546351e+09</td>\n",
       "    </tr>\n",
       "    <tr>\n",
       "      <th>2019-01-01 15:00:00</th>\n",
       "      <td>Amsterdam-Vondelpark</td>\n",
       "      <td>CO</td>\n",
       "      <td>250.6</td>\n",
       "      <td>2</td>\n",
       "      <td>1.546355e+09</td>\n",
       "    </tr>\n",
       "    <tr>\n",
       "      <th>2019-01-01 16:00:00</th>\n",
       "      <td>Amsterdam-Vondelpark</td>\n",
       "      <td>CO</td>\n",
       "      <td>268.5</td>\n",
       "      <td>2</td>\n",
       "      <td>1.546358e+09</td>\n",
       "    </tr>\n",
       "    <tr>\n",
       "      <th>2019-01-01 17:00:00</th>\n",
       "      <td>Amsterdam-Vondelpark</td>\n",
       "      <td>CO</td>\n",
       "      <td>247.5</td>\n",
       "      <td>1</td>\n",
       "      <td>1.546362e+09</td>\n",
       "    </tr>\n",
       "    <tr>\n",
       "      <th>2019-01-01 18:00:00</th>\n",
       "      <td>Amsterdam-Vondelpark</td>\n",
       "      <td>CO</td>\n",
       "      <td>242.2</td>\n",
       "      <td>1</td>\n",
       "      <td>1.546366e+09</td>\n",
       "    </tr>\n",
       "    <tr>\n",
       "      <th>2019-01-01 19:00:00</th>\n",
       "      <td>Amsterdam-Vondelpark</td>\n",
       "      <td>CO</td>\n",
       "      <td>243.9</td>\n",
       "      <td>1</td>\n",
       "      <td>1.546369e+09</td>\n",
       "    </tr>\n",
       "    <tr>\n",
       "      <th>2019-01-01 20:00:00</th>\n",
       "      <td>Amsterdam-Vondelpark</td>\n",
       "      <td>CO</td>\n",
       "      <td>228.4</td>\n",
       "      <td>1</td>\n",
       "      <td>1.546373e+09</td>\n",
       "    </tr>\n",
       "    <tr>\n",
       "      <th>2019-01-01 21:00:00</th>\n",
       "      <td>Amsterdam-Vondelpark</td>\n",
       "      <td>CO</td>\n",
       "      <td>208.5</td>\n",
       "      <td>1</td>\n",
       "      <td>1.546376e+09</td>\n",
       "    </tr>\n",
       "    <tr>\n",
       "      <th>2019-01-01 22:00:00</th>\n",
       "      <td>Amsterdam-Vondelpark</td>\n",
       "      <td>CO</td>\n",
       "      <td>223.9</td>\n",
       "      <td>1</td>\n",
       "      <td>1.546380e+09</td>\n",
       "    </tr>\n",
       "    <tr>\n",
       "      <th>2019-01-01 23:00:00</th>\n",
       "      <td>Amsterdam-Vondelpark</td>\n",
       "      <td>CO</td>\n",
       "      <td>211.4</td>\n",
       "      <td>1</td>\n",
       "      <td>1.546384e+09</td>\n",
       "    </tr>\n",
       "  </tbody>\n",
       "</table>\n",
       "</div>"
      ],
      "text/plain": [
       "                                 location component  value  airquality_index  \\\n",
       "time                                                                           \n",
       "2019-01-01 00:00:00  Amsterdam-Vondelpark        CO  298.1                 2   \n",
       "2019-01-01 01:00:00  Amsterdam-Vondelpark        CO  287.7                 2   \n",
       "2019-01-01 02:00:00  Amsterdam-Vondelpark        CO  244.6                 1   \n",
       "2019-01-01 03:00:00  Amsterdam-Vondelpark        CO  219.9                 1   \n",
       "2019-01-01 04:00:00  Amsterdam-Vondelpark        CO  214.5                 1   \n",
       "2019-01-01 05:00:00  Amsterdam-Vondelpark        CO  207.9                 1   \n",
       "2019-01-01 06:00:00  Amsterdam-Vondelpark        CO  202.4                 1   \n",
       "2019-01-01 07:00:00  Amsterdam-Vondelpark        CO  200.6                 1   \n",
       "2019-01-01 08:00:00  Amsterdam-Vondelpark        CO  216.5                 1   \n",
       "2019-01-01 09:00:00  Amsterdam-Vondelpark        CO  223.2                 1   \n",
       "2019-01-01 10:00:00  Amsterdam-Vondelpark        CO  241.7                 1   \n",
       "2019-01-01 11:00:00  Amsterdam-Vondelpark        CO  242.6                 1   \n",
       "2019-01-01 12:00:00  Amsterdam-Vondelpark        CO  240.0                 1   \n",
       "2019-01-01 13:00:00  Amsterdam-Vondelpark        CO  236.3                 1   \n",
       "2019-01-01 14:00:00  Amsterdam-Vondelpark        CO  238.8                 1   \n",
       "2019-01-01 15:00:00  Amsterdam-Vondelpark        CO  250.6                 2   \n",
       "2019-01-01 16:00:00  Amsterdam-Vondelpark        CO  268.5                 2   \n",
       "2019-01-01 17:00:00  Amsterdam-Vondelpark        CO  247.5                 1   \n",
       "2019-01-01 18:00:00  Amsterdam-Vondelpark        CO  242.2                 1   \n",
       "2019-01-01 19:00:00  Amsterdam-Vondelpark        CO  243.9                 1   \n",
       "2019-01-01 20:00:00  Amsterdam-Vondelpark        CO  228.4                 1   \n",
       "2019-01-01 21:00:00  Amsterdam-Vondelpark        CO  208.5                 1   \n",
       "2019-01-01 22:00:00  Amsterdam-Vondelpark        CO  223.9                 1   \n",
       "2019-01-01 23:00:00  Amsterdam-Vondelpark        CO  211.4                 1   \n",
       "\n",
       "                        time_unix  \n",
       "time                               \n",
       "2019-01-01 00:00:00  1.546301e+09  \n",
       "2019-01-01 01:00:00  1.546304e+09  \n",
       "2019-01-01 02:00:00  1.546308e+09  \n",
       "2019-01-01 03:00:00  1.546312e+09  \n",
       "2019-01-01 04:00:00  1.546315e+09  \n",
       "2019-01-01 05:00:00  1.546319e+09  \n",
       "2019-01-01 06:00:00  1.546322e+09  \n",
       "2019-01-01 07:00:00  1.546326e+09  \n",
       "2019-01-01 08:00:00  1.546330e+09  \n",
       "2019-01-01 09:00:00  1.546333e+09  \n",
       "2019-01-01 10:00:00  1.546337e+09  \n",
       "2019-01-01 11:00:00  1.546340e+09  \n",
       "2019-01-01 12:00:00  1.546344e+09  \n",
       "2019-01-01 13:00:00  1.546348e+09  \n",
       "2019-01-01 14:00:00  1.546351e+09  \n",
       "2019-01-01 15:00:00  1.546355e+09  \n",
       "2019-01-01 16:00:00  1.546358e+09  \n",
       "2019-01-01 17:00:00  1.546362e+09  \n",
       "2019-01-01 18:00:00  1.546366e+09  \n",
       "2019-01-01 19:00:00  1.546369e+09  \n",
       "2019-01-01 20:00:00  1.546373e+09  \n",
       "2019-01-01 21:00:00  1.546376e+09  \n",
       "2019-01-01 22:00:00  1.546380e+09  \n",
       "2019-01-01 23:00:00  1.546384e+09  "
      ]
     },
     "execution_count": 96,
     "metadata": {},
     "output_type": "execute_result"
    }
   ],
   "source": [
    "# you can also use strings\n",
    "airquality_indexed.loc[\"2019-01-01\"]"
   ]
  },
  {
   "cell_type": "code",
   "execution_count": 97,
   "metadata": {},
   "outputs": [
    {
     "data": {
      "text/html": [
       "<div>\n",
       "<style scoped>\n",
       "    .dataframe tbody tr th:only-of-type {\n",
       "        vertical-align: middle;\n",
       "    }\n",
       "\n",
       "    .dataframe tbody tr th {\n",
       "        vertical-align: top;\n",
       "    }\n",
       "\n",
       "    .dataframe thead th {\n",
       "        text-align: right;\n",
       "    }\n",
       "</style>\n",
       "<table border=\"1\" class=\"dataframe\">\n",
       "  <thead>\n",
       "    <tr style=\"text-align: right;\">\n",
       "      <th></th>\n",
       "      <th>location</th>\n",
       "      <th>component</th>\n",
       "      <th>value</th>\n",
       "      <th>airquality_index</th>\n",
       "      <th>time_unix</th>\n",
       "    </tr>\n",
       "    <tr>\n",
       "      <th>time</th>\n",
       "      <th></th>\n",
       "      <th></th>\n",
       "      <th></th>\n",
       "      <th></th>\n",
       "      <th></th>\n",
       "    </tr>\n",
       "  </thead>\n",
       "  <tbody>\n",
       "    <tr>\n",
       "      <th>2019-01-01 00:00:00</th>\n",
       "      <td>Amsterdam-Vondelpark</td>\n",
       "      <td>CO</td>\n",
       "      <td>298.1</td>\n",
       "      <td>2</td>\n",
       "      <td>1.546301e+09</td>\n",
       "    </tr>\n",
       "    <tr>\n",
       "      <th>2019-01-01 01:00:00</th>\n",
       "      <td>Amsterdam-Vondelpark</td>\n",
       "      <td>CO</td>\n",
       "      <td>287.7</td>\n",
       "      <td>2</td>\n",
       "      <td>1.546304e+09</td>\n",
       "    </tr>\n",
       "    <tr>\n",
       "      <th>2019-01-01 02:00:00</th>\n",
       "      <td>Amsterdam-Vondelpark</td>\n",
       "      <td>CO</td>\n",
       "      <td>244.6</td>\n",
       "      <td>1</td>\n",
       "      <td>1.546308e+09</td>\n",
       "    </tr>\n",
       "    <tr>\n",
       "      <th>2019-01-01 03:00:00</th>\n",
       "      <td>Amsterdam-Vondelpark</td>\n",
       "      <td>CO</td>\n",
       "      <td>219.9</td>\n",
       "      <td>1</td>\n",
       "      <td>1.546312e+09</td>\n",
       "    </tr>\n",
       "    <tr>\n",
       "      <th>2019-01-01 04:00:00</th>\n",
       "      <td>Amsterdam-Vondelpark</td>\n",
       "      <td>CO</td>\n",
       "      <td>214.5</td>\n",
       "      <td>1</td>\n",
       "      <td>1.546315e+09</td>\n",
       "    </tr>\n",
       "    <tr>\n",
       "      <th>...</th>\n",
       "      <td>...</td>\n",
       "      <td>...</td>\n",
       "      <td>...</td>\n",
       "      <td>...</td>\n",
       "      <td>...</td>\n",
       "    </tr>\n",
       "    <tr>\n",
       "      <th>2019-01-06 20:00:00</th>\n",
       "      <td>Amsterdam-Vondelpark</td>\n",
       "      <td>CO</td>\n",
       "      <td>415.5</td>\n",
       "      <td>2</td>\n",
       "      <td>1.546805e+09</td>\n",
       "    </tr>\n",
       "    <tr>\n",
       "      <th>2019-01-06 21:00:00</th>\n",
       "      <td>Amsterdam-Vondelpark</td>\n",
       "      <td>CO</td>\n",
       "      <td>395.6</td>\n",
       "      <td>2</td>\n",
       "      <td>1.546808e+09</td>\n",
       "    </tr>\n",
       "    <tr>\n",
       "      <th>2019-01-06 22:00:00</th>\n",
       "      <td>Amsterdam-Vondelpark</td>\n",
       "      <td>CO</td>\n",
       "      <td>387.2</td>\n",
       "      <td>2</td>\n",
       "      <td>1.546812e+09</td>\n",
       "    </tr>\n",
       "    <tr>\n",
       "      <th>2019-01-06 23:00:00</th>\n",
       "      <td>Amsterdam-Vondelpark</td>\n",
       "      <td>CO</td>\n",
       "      <td>402.5</td>\n",
       "      <td>2</td>\n",
       "      <td>1.546816e+09</td>\n",
       "    </tr>\n",
       "    <tr>\n",
       "      <th>2019-01-07 00:00:00</th>\n",
       "      <td>Amsterdam-Vondelpark</td>\n",
       "      <td>CO</td>\n",
       "      <td>460.1</td>\n",
       "      <td>2</td>\n",
       "      <td>1.546819e+09</td>\n",
       "    </tr>\n",
       "  </tbody>\n",
       "</table>\n",
       "<p>144 rows × 5 columns</p>\n",
       "</div>"
      ],
      "text/plain": [
       "                                 location component  value  airquality_index  \\\n",
       "time                                                                           \n",
       "2019-01-01 00:00:00  Amsterdam-Vondelpark        CO  298.1                 2   \n",
       "2019-01-01 01:00:00  Amsterdam-Vondelpark        CO  287.7                 2   \n",
       "2019-01-01 02:00:00  Amsterdam-Vondelpark        CO  244.6                 1   \n",
       "2019-01-01 03:00:00  Amsterdam-Vondelpark        CO  219.9                 1   \n",
       "2019-01-01 04:00:00  Amsterdam-Vondelpark        CO  214.5                 1   \n",
       "...                                   ...       ...    ...               ...   \n",
       "2019-01-06 20:00:00  Amsterdam-Vondelpark        CO  415.5                 2   \n",
       "2019-01-06 21:00:00  Amsterdam-Vondelpark        CO  395.6                 2   \n",
       "2019-01-06 22:00:00  Amsterdam-Vondelpark        CO  387.2                 2   \n",
       "2019-01-06 23:00:00  Amsterdam-Vondelpark        CO  402.5                 2   \n",
       "2019-01-07 00:00:00  Amsterdam-Vondelpark        CO  460.1                 2   \n",
       "\n",
       "                        time_unix  \n",
       "time                               \n",
       "2019-01-01 00:00:00  1.546301e+09  \n",
       "2019-01-01 01:00:00  1.546304e+09  \n",
       "2019-01-01 02:00:00  1.546308e+09  \n",
       "2019-01-01 03:00:00  1.546312e+09  \n",
       "2019-01-01 04:00:00  1.546315e+09  \n",
       "...                           ...  \n",
       "2019-01-06 20:00:00  1.546805e+09  \n",
       "2019-01-06 21:00:00  1.546808e+09  \n",
       "2019-01-06 22:00:00  1.546812e+09  \n",
       "2019-01-06 23:00:00  1.546816e+09  \n",
       "2019-01-07 00:00:00  1.546819e+09  \n",
       "\n",
       "[144 rows x 5 columns]"
      ]
     },
     "execution_count": 97,
     "metadata": {},
     "output_type": "execute_result"
    }
   ],
   "source": [
    "# you can also slice the dataframe\n",
    "airquality_indexed.loc[:datetime.datetime(2019,1,7)]"
   ]
  },
  {
   "cell_type": "code",
   "execution_count": 98,
   "metadata": {},
   "outputs": [
    {
     "data": {
      "text/html": [
       "<div>\n",
       "<style scoped>\n",
       "    .dataframe tbody tr th:only-of-type {\n",
       "        vertical-align: middle;\n",
       "    }\n",
       "\n",
       "    .dataframe tbody tr th {\n",
       "        vertical-align: top;\n",
       "    }\n",
       "\n",
       "    .dataframe thead th {\n",
       "        text-align: right;\n",
       "    }\n",
       "</style>\n",
       "<table border=\"1\" class=\"dataframe\">\n",
       "  <thead>\n",
       "    <tr style=\"text-align: right;\">\n",
       "      <th></th>\n",
       "      <th>location</th>\n",
       "      <th>component</th>\n",
       "      <th>value</th>\n",
       "      <th>airquality_index</th>\n",
       "      <th>time_unix</th>\n",
       "    </tr>\n",
       "    <tr>\n",
       "      <th>time</th>\n",
       "      <th></th>\n",
       "      <th></th>\n",
       "      <th></th>\n",
       "      <th></th>\n",
       "      <th></th>\n",
       "    </tr>\n",
       "  </thead>\n",
       "  <tbody>\n",
       "    <tr>\n",
       "      <th>2019-01-03 00:00:00</th>\n",
       "      <td>Amsterdam-Vondelpark</td>\n",
       "      <td>CO</td>\n",
       "      <td>272.6</td>\n",
       "      <td>2</td>\n",
       "      <td>1.546474e+09</td>\n",
       "    </tr>\n",
       "    <tr>\n",
       "      <th>2019-01-03 01:00:00</th>\n",
       "      <td>Amsterdam-Vondelpark</td>\n",
       "      <td>CO</td>\n",
       "      <td>271.0</td>\n",
       "      <td>2</td>\n",
       "      <td>1.546477e+09</td>\n",
       "    </tr>\n",
       "    <tr>\n",
       "      <th>2019-01-03 02:00:00</th>\n",
       "      <td>Amsterdam-Vondelpark</td>\n",
       "      <td>CO</td>\n",
       "      <td>250.9</td>\n",
       "      <td>2</td>\n",
       "      <td>1.546481e+09</td>\n",
       "    </tr>\n",
       "    <tr>\n",
       "      <th>2019-01-03 03:00:00</th>\n",
       "      <td>Amsterdam-Vondelpark</td>\n",
       "      <td>CO</td>\n",
       "      <td>240.9</td>\n",
       "      <td>1</td>\n",
       "      <td>1.546484e+09</td>\n",
       "    </tr>\n",
       "    <tr>\n",
       "      <th>2019-01-03 04:00:00</th>\n",
       "      <td>Amsterdam-Vondelpark</td>\n",
       "      <td>CO</td>\n",
       "      <td>254.6</td>\n",
       "      <td>2</td>\n",
       "      <td>1.546488e+09</td>\n",
       "    </tr>\n",
       "    <tr>\n",
       "      <th>...</th>\n",
       "      <td>...</td>\n",
       "      <td>...</td>\n",
       "      <td>...</td>\n",
       "      <td>...</td>\n",
       "      <td>...</td>\n",
       "    </tr>\n",
       "    <tr>\n",
       "      <th>2019-01-07 19:00:00</th>\n",
       "      <td>Amsterdam-Vondelpark</td>\n",
       "      <td>CO</td>\n",
       "      <td>237.4</td>\n",
       "      <td>1</td>\n",
       "      <td>1.546888e+09</td>\n",
       "    </tr>\n",
       "    <tr>\n",
       "      <th>2019-01-07 20:00:00</th>\n",
       "      <td>Amsterdam-Vondelpark</td>\n",
       "      <td>CO</td>\n",
       "      <td>240.1</td>\n",
       "      <td>1</td>\n",
       "      <td>1.546891e+09</td>\n",
       "    </tr>\n",
       "    <tr>\n",
       "      <th>2019-01-07 21:00:00</th>\n",
       "      <td>Amsterdam-Vondelpark</td>\n",
       "      <td>CO</td>\n",
       "      <td>242.2</td>\n",
       "      <td>1</td>\n",
       "      <td>1.546895e+09</td>\n",
       "    </tr>\n",
       "    <tr>\n",
       "      <th>2019-01-07 22:00:00</th>\n",
       "      <td>Amsterdam-Vondelpark</td>\n",
       "      <td>CO</td>\n",
       "      <td>226.2</td>\n",
       "      <td>1</td>\n",
       "      <td>1.546898e+09</td>\n",
       "    </tr>\n",
       "    <tr>\n",
       "      <th>2019-01-07 23:00:00</th>\n",
       "      <td>Amsterdam-Vondelpark</td>\n",
       "      <td>CO</td>\n",
       "      <td>206.3</td>\n",
       "      <td>1</td>\n",
       "      <td>1.546902e+09</td>\n",
       "    </tr>\n",
       "  </tbody>\n",
       "</table>\n",
       "<p>119 rows × 5 columns</p>\n",
       "</div>"
      ],
      "text/plain": [
       "                                 location component  value  airquality_index  \\\n",
       "time                                                                           \n",
       "2019-01-03 00:00:00  Amsterdam-Vondelpark        CO  272.6                 2   \n",
       "2019-01-03 01:00:00  Amsterdam-Vondelpark        CO  271.0                 2   \n",
       "2019-01-03 02:00:00  Amsterdam-Vondelpark        CO  250.9                 2   \n",
       "2019-01-03 03:00:00  Amsterdam-Vondelpark        CO  240.9                 1   \n",
       "2019-01-03 04:00:00  Amsterdam-Vondelpark        CO  254.6                 2   \n",
       "...                                   ...       ...    ...               ...   \n",
       "2019-01-07 19:00:00  Amsterdam-Vondelpark        CO  237.4                 1   \n",
       "2019-01-07 20:00:00  Amsterdam-Vondelpark        CO  240.1                 1   \n",
       "2019-01-07 21:00:00  Amsterdam-Vondelpark        CO  242.2                 1   \n",
       "2019-01-07 22:00:00  Amsterdam-Vondelpark        CO  226.2                 1   \n",
       "2019-01-07 23:00:00  Amsterdam-Vondelpark        CO  206.3                 1   \n",
       "\n",
       "                        time_unix  \n",
       "time                               \n",
       "2019-01-03 00:00:00  1.546474e+09  \n",
       "2019-01-03 01:00:00  1.546477e+09  \n",
       "2019-01-03 02:00:00  1.546481e+09  \n",
       "2019-01-03 03:00:00  1.546484e+09  \n",
       "2019-01-03 04:00:00  1.546488e+09  \n",
       "...                           ...  \n",
       "2019-01-07 19:00:00  1.546888e+09  \n",
       "2019-01-07 20:00:00  1.546891e+09  \n",
       "2019-01-07 21:00:00  1.546895e+09  \n",
       "2019-01-07 22:00:00  1.546898e+09  \n",
       "2019-01-07 23:00:00  1.546902e+09  \n",
       "\n",
       "[119 rows x 5 columns]"
      ]
     },
     "execution_count": 98,
     "metadata": {},
     "output_type": "execute_result"
    }
   ],
   "source": [
    "airquality_indexed.loc[\"2019-01-03\":\"2019-01-07\"]"
   ]
  },
  {
   "cell_type": "code",
   "execution_count": 99,
   "metadata": {},
   "outputs": [
    {
     "data": {
      "text/html": [
       "<div>\n",
       "<style scoped>\n",
       "    .dataframe tbody tr th:only-of-type {\n",
       "        vertical-align: middle;\n",
       "    }\n",
       "\n",
       "    .dataframe tbody tr th {\n",
       "        vertical-align: top;\n",
       "    }\n",
       "\n",
       "    .dataframe thead th {\n",
       "        text-align: right;\n",
       "    }\n",
       "</style>\n",
       "<table border=\"1\" class=\"dataframe\">\n",
       "  <thead>\n",
       "    <tr style=\"text-align: right;\">\n",
       "      <th></th>\n",
       "      <th>location</th>\n",
       "      <th>component</th>\n",
       "      <th>value</th>\n",
       "      <th>airquality_index</th>\n",
       "      <th>time_unix</th>\n",
       "    </tr>\n",
       "    <tr>\n",
       "      <th>time</th>\n",
       "      <th></th>\n",
       "      <th></th>\n",
       "      <th></th>\n",
       "      <th></th>\n",
       "      <th></th>\n",
       "    </tr>\n",
       "  </thead>\n",
       "  <tbody>\n",
       "    <tr>\n",
       "      <th>2019-01-01 00:00:00</th>\n",
       "      <td>Amsterdam-Vondelpark</td>\n",
       "      <td>CO</td>\n",
       "      <td>298.1</td>\n",
       "      <td>2</td>\n",
       "      <td>1.546301e+09</td>\n",
       "    </tr>\n",
       "    <tr>\n",
       "      <th>2019-01-01 01:00:00</th>\n",
       "      <td>Amsterdam-Vondelpark</td>\n",
       "      <td>CO</td>\n",
       "      <td>287.7</td>\n",
       "      <td>2</td>\n",
       "      <td>1.546304e+09</td>\n",
       "    </tr>\n",
       "    <tr>\n",
       "      <th>2019-01-01 02:00:00</th>\n",
       "      <td>Amsterdam-Vondelpark</td>\n",
       "      <td>CO</td>\n",
       "      <td>244.6</td>\n",
       "      <td>1</td>\n",
       "      <td>1.546308e+09</td>\n",
       "    </tr>\n",
       "    <tr>\n",
       "      <th>2019-01-01 03:00:00</th>\n",
       "      <td>Amsterdam-Vondelpark</td>\n",
       "      <td>CO</td>\n",
       "      <td>219.9</td>\n",
       "      <td>1</td>\n",
       "      <td>1.546312e+09</td>\n",
       "    </tr>\n",
       "    <tr>\n",
       "      <th>2019-01-01 04:00:00</th>\n",
       "      <td>Amsterdam-Vondelpark</td>\n",
       "      <td>CO</td>\n",
       "      <td>214.5</td>\n",
       "      <td>1</td>\n",
       "      <td>1.546315e+09</td>\n",
       "    </tr>\n",
       "    <tr>\n",
       "      <th>...</th>\n",
       "      <td>...</td>\n",
       "      <td>...</td>\n",
       "      <td>...</td>\n",
       "      <td>...</td>\n",
       "      <td>...</td>\n",
       "    </tr>\n",
       "    <tr>\n",
       "      <th>2019-01-31 19:00:00</th>\n",
       "      <td>Amsterdam-Vondelpark</td>\n",
       "      <td>CO</td>\n",
       "      <td>297.0</td>\n",
       "      <td>2</td>\n",
       "      <td>1.548961e+09</td>\n",
       "    </tr>\n",
       "    <tr>\n",
       "      <th>2019-01-31 20:00:00</th>\n",
       "      <td>Amsterdam-Vondelpark</td>\n",
       "      <td>CO</td>\n",
       "      <td>294.5</td>\n",
       "      <td>2</td>\n",
       "      <td>1.548965e+09</td>\n",
       "    </tr>\n",
       "    <tr>\n",
       "      <th>2019-01-31 21:00:00</th>\n",
       "      <td>Amsterdam-Vondelpark</td>\n",
       "      <td>CO</td>\n",
       "      <td>342.5</td>\n",
       "      <td>2</td>\n",
       "      <td>1.548968e+09</td>\n",
       "    </tr>\n",
       "    <tr>\n",
       "      <th>2019-01-31 22:00:00</th>\n",
       "      <td>Amsterdam-Vondelpark</td>\n",
       "      <td>CO</td>\n",
       "      <td>335.9</td>\n",
       "      <td>2</td>\n",
       "      <td>1.548972e+09</td>\n",
       "    </tr>\n",
       "    <tr>\n",
       "      <th>2019-01-31 23:00:00</th>\n",
       "      <td>Amsterdam-Vondelpark</td>\n",
       "      <td>CO</td>\n",
       "      <td>291.7</td>\n",
       "      <td>2</td>\n",
       "      <td>1.548976e+09</td>\n",
       "    </tr>\n",
       "  </tbody>\n",
       "</table>\n",
       "<p>742 rows × 5 columns</p>\n",
       "</div>"
      ],
      "text/plain": [
       "                                 location component  value  airquality_index  \\\n",
       "time                                                                           \n",
       "2019-01-01 00:00:00  Amsterdam-Vondelpark        CO  298.1                 2   \n",
       "2019-01-01 01:00:00  Amsterdam-Vondelpark        CO  287.7                 2   \n",
       "2019-01-01 02:00:00  Amsterdam-Vondelpark        CO  244.6                 1   \n",
       "2019-01-01 03:00:00  Amsterdam-Vondelpark        CO  219.9                 1   \n",
       "2019-01-01 04:00:00  Amsterdam-Vondelpark        CO  214.5                 1   \n",
       "...                                   ...       ...    ...               ...   \n",
       "2019-01-31 19:00:00  Amsterdam-Vondelpark        CO  297.0                 2   \n",
       "2019-01-31 20:00:00  Amsterdam-Vondelpark        CO  294.5                 2   \n",
       "2019-01-31 21:00:00  Amsterdam-Vondelpark        CO  342.5                 2   \n",
       "2019-01-31 22:00:00  Amsterdam-Vondelpark        CO  335.9                 2   \n",
       "2019-01-31 23:00:00  Amsterdam-Vondelpark        CO  291.7                 2   \n",
       "\n",
       "                        time_unix  \n",
       "time                               \n",
       "2019-01-01 00:00:00  1.546301e+09  \n",
       "2019-01-01 01:00:00  1.546304e+09  \n",
       "2019-01-01 02:00:00  1.546308e+09  \n",
       "2019-01-01 03:00:00  1.546312e+09  \n",
       "2019-01-01 04:00:00  1.546315e+09  \n",
       "...                           ...  \n",
       "2019-01-31 19:00:00  1.548961e+09  \n",
       "2019-01-31 20:00:00  1.548965e+09  \n",
       "2019-01-31 21:00:00  1.548968e+09  \n",
       "2019-01-31 22:00:00  1.548972e+09  \n",
       "2019-01-31 23:00:00  1.548976e+09  \n",
       "\n",
       "[742 rows x 5 columns]"
      ]
     },
     "execution_count": 99,
     "metadata": {},
     "output_type": "execute_result"
    }
   ],
   "source": [
    "# you can also pass in the year or month\n",
    "airquality_indexed.loc[\"2019-1\"]"
   ]
  },
  {
   "cell_type": "code",
   "execution_count": 100,
   "metadata": {},
   "outputs": [
    {
     "data": {
      "text/html": [
       "<div>\n",
       "<style scoped>\n",
       "    .dataframe tbody tr th:only-of-type {\n",
       "        vertical-align: middle;\n",
       "    }\n",
       "\n",
       "    .dataframe tbody tr th {\n",
       "        vertical-align: top;\n",
       "    }\n",
       "\n",
       "    .dataframe thead th {\n",
       "        text-align: right;\n",
       "    }\n",
       "</style>\n",
       "<table border=\"1\" class=\"dataframe\">\n",
       "  <thead>\n",
       "    <tr style=\"text-align: right;\">\n",
       "      <th></th>\n",
       "      <th>location</th>\n",
       "      <th>component</th>\n",
       "      <th>value</th>\n",
       "      <th>airquality_index</th>\n",
       "      <th>time_unix</th>\n",
       "    </tr>\n",
       "    <tr>\n",
       "      <th>time</th>\n",
       "      <th></th>\n",
       "      <th></th>\n",
       "      <th></th>\n",
       "      <th></th>\n",
       "      <th></th>\n",
       "    </tr>\n",
       "  </thead>\n",
       "  <tbody>\n",
       "    <tr>\n",
       "      <th>2019-02-01 00:00:00</th>\n",
       "      <td>Amsterdam-Vondelpark</td>\n",
       "      <td>CO</td>\n",
       "      <td>297.8</td>\n",
       "      <td>2</td>\n",
       "      <td>1.548979e+09</td>\n",
       "    </tr>\n",
       "    <tr>\n",
       "      <th>2019-02-01 01:00:00</th>\n",
       "      <td>Amsterdam-Vondelpark</td>\n",
       "      <td>CO</td>\n",
       "      <td>323.0</td>\n",
       "      <td>2</td>\n",
       "      <td>1.548983e+09</td>\n",
       "    </tr>\n",
       "    <tr>\n",
       "      <th>2019-02-01 02:00:00</th>\n",
       "      <td>Amsterdam-Vondelpark</td>\n",
       "      <td>CO</td>\n",
       "      <td>318.0</td>\n",
       "      <td>2</td>\n",
       "      <td>1.548986e+09</td>\n",
       "    </tr>\n",
       "    <tr>\n",
       "      <th>2019-02-01 03:00:00</th>\n",
       "      <td>Amsterdam-Vondelpark</td>\n",
       "      <td>CO</td>\n",
       "      <td>289.5</td>\n",
       "      <td>2</td>\n",
       "      <td>1.548990e+09</td>\n",
       "    </tr>\n",
       "    <tr>\n",
       "      <th>2019-02-01 04:00:00</th>\n",
       "      <td>Amsterdam-Vondelpark</td>\n",
       "      <td>CO</td>\n",
       "      <td>268.4</td>\n",
       "      <td>2</td>\n",
       "      <td>1.548994e+09</td>\n",
       "    </tr>\n",
       "    <tr>\n",
       "      <th>...</th>\n",
       "      <td>...</td>\n",
       "      <td>...</td>\n",
       "      <td>...</td>\n",
       "      <td>...</td>\n",
       "      <td>...</td>\n",
       "    </tr>\n",
       "    <tr>\n",
       "      <th>2019-02-28 20:00:00</th>\n",
       "      <td>Amsterdam-Vondelpark</td>\n",
       "      <td>CO</td>\n",
       "      <td>340.6</td>\n",
       "      <td>2</td>\n",
       "      <td>1.551384e+09</td>\n",
       "    </tr>\n",
       "    <tr>\n",
       "      <th>2019-02-28 21:00:00</th>\n",
       "      <td>Amsterdam-Vondelpark</td>\n",
       "      <td>CO</td>\n",
       "      <td>353.7</td>\n",
       "      <td>2</td>\n",
       "      <td>1.551388e+09</td>\n",
       "    </tr>\n",
       "    <tr>\n",
       "      <th>2019-02-28 22:00:00</th>\n",
       "      <td>Amsterdam-Vondelpark</td>\n",
       "      <td>CO</td>\n",
       "      <td>356.3</td>\n",
       "      <td>2</td>\n",
       "      <td>1.551391e+09</td>\n",
       "    </tr>\n",
       "    <tr>\n",
       "      <th>2019-02-28 23:00:00</th>\n",
       "      <td>Amsterdam-Vondelpark</td>\n",
       "      <td>CO</td>\n",
       "      <td>309.4</td>\n",
       "      <td>2</td>\n",
       "      <td>1.551395e+09</td>\n",
       "    </tr>\n",
       "    <tr>\n",
       "      <th>2019-03-01 00:00:00</th>\n",
       "      <td>Amsterdam-Vondelpark</td>\n",
       "      <td>CO</td>\n",
       "      <td>302.5</td>\n",
       "      <td>2</td>\n",
       "      <td>1.551398e+09</td>\n",
       "    </tr>\n",
       "  </tbody>\n",
       "</table>\n",
       "<p>667 rows × 5 columns</p>\n",
       "</div>"
      ],
      "text/plain": [
       "                                 location component  value  airquality_index  \\\n",
       "time                                                                           \n",
       "2019-02-01 00:00:00  Amsterdam-Vondelpark        CO  297.8                 2   \n",
       "2019-02-01 01:00:00  Amsterdam-Vondelpark        CO  323.0                 2   \n",
       "2019-02-01 02:00:00  Amsterdam-Vondelpark        CO  318.0                 2   \n",
       "2019-02-01 03:00:00  Amsterdam-Vondelpark        CO  289.5                 2   \n",
       "2019-02-01 04:00:00  Amsterdam-Vondelpark        CO  268.4                 2   \n",
       "...                                   ...       ...    ...               ...   \n",
       "2019-02-28 20:00:00  Amsterdam-Vondelpark        CO  340.6                 2   \n",
       "2019-02-28 21:00:00  Amsterdam-Vondelpark        CO  353.7                 2   \n",
       "2019-02-28 22:00:00  Amsterdam-Vondelpark        CO  356.3                 2   \n",
       "2019-02-28 23:00:00  Amsterdam-Vondelpark        CO  309.4                 2   \n",
       "2019-03-01 00:00:00  Amsterdam-Vondelpark        CO  302.5                 2   \n",
       "\n",
       "                        time_unix  \n",
       "time                               \n",
       "2019-02-01 00:00:00  1.548979e+09  \n",
       "2019-02-01 01:00:00  1.548983e+09  \n",
       "2019-02-01 02:00:00  1.548986e+09  \n",
       "2019-02-01 03:00:00  1.548990e+09  \n",
       "2019-02-01 04:00:00  1.548994e+09  \n",
       "...                           ...  \n",
       "2019-02-28 20:00:00  1.551384e+09  \n",
       "2019-02-28 21:00:00  1.551388e+09  \n",
       "2019-02-28 22:00:00  1.551391e+09  \n",
       "2019-02-28 23:00:00  1.551395e+09  \n",
       "2019-03-01 00:00:00  1.551398e+09  \n",
       "\n",
       "[667 rows x 5 columns]"
      ]
     },
     "execution_count": 100,
     "metadata": {},
     "output_type": "execute_result"
    }
   ],
   "source": [
    "# you can also use the feature 'truncate'\n",
    "airquality_indexed.truncate(before='2019-02-01', after='2019-03-01')"
   ]
  },
  {
   "cell_type": "markdown",
   "metadata": {},
   "source": [
    "Try to create some plots of the amount of 'CO', for:\n",
    "* Month of January\n",
    "* 1st of July\n",
    "* Before 1st of February but after 1st of September"
   ]
  },
  {
   "cell_type": "code",
   "execution_count": 103,
   "metadata": {},
   "outputs": [
    {
     "data": {
      "text/plain": [
       "<matplotlib.axes._subplots.AxesSubplot at 0x116399dd0>"
      ]
     },
     "execution_count": 103,
     "metadata": {},
     "output_type": "execute_result"
    },
    {
     "data": {
      "image/png": "[encoded data removed]",
      "text/plain": [
       "<Figure size 432x288 with 1 Axes>"
      ]
     },
     "metadata": {
      "needs_background": "light"
     },
     "output_type": "display_data"
    }
   ],
   "source": [
    "airquality_indexed.loc[\"2019-1\"].value.plot()"
   ]
  },
  {
   "cell_type": "code",
   "execution_count": 104,
   "metadata": {},
   "outputs": [
    {
     "data": {
      "text/plain": [
       "<matplotlib.axes._subplots.AxesSubplot at 0x1160d5450>"
      ]
     },
     "execution_count": 104,
     "metadata": {},
     "output_type": "execute_result"
    },
    {
     "data": {
      "image/png": "[encoded data removed]",
      "text/plain": [
       "<Figure size 432x288 with 1 Axes>"
      ]
     },
     "metadata": {
      "needs_background": "light"
     },
     "output_type": "display_data"
    }
   ],
   "source": [
    "airquality_indexed.loc[\"2019-07-01\"].value.plot()"
   ]
  },
  {
   "cell_type": "code",
   "execution_count": 105,
   "metadata": {},
   "outputs": [
    {
     "data": {
      "text/plain": [
       "<matplotlib.axes._subplots.AxesSubplot at 0x116197c10>"
      ]
     },
     "execution_count": 105,
     "metadata": {},
     "output_type": "execute_result"
    },
    {
     "data": {
      "image/png": "[encoded data removed]",
      "text/plain": [
       "<Figure size 432x288 with 1 Axes>"
      ]
     },
     "metadata": {
      "needs_background": "light"
     },
     "output_type": "display_data"
    }
   ],
   "source": [
    "airquality_indexed.truncate(before='2019-02-01', after='2019-09-01').value.plot()"
   ]
  },
  {
   "cell_type": "markdown",
   "metadata": {},
   "source": [
    "## 3. Computing statistics"
   ]
  },
  {
   "cell_type": "markdown",
   "metadata": {},
   "source": [
    "The indexed dataframe allows to compute statistics over different timeframes"
   ]
  },
  {
   "cell_type": "code",
   "execution_count": 114,
   "metadata": {},
   "outputs": [
    {
     "name": "stdout",
     "output_type": "stream",
     "text": [
      "10.400000000000034\n"
     ]
    }
   ],
   "source": [
    "# you can do simple operations like adding and substraction\n",
    "print(\n",
    "    airquality_indexed.loc[\"2019-01-01 00:00:00\"].value - \\\n",
    "    airquality_indexed.loc[\"2019-01-01 01:00:00\"].value\n",
    ")"
   ]
  },
  {
   "cell_type": "code",
   "execution_count": 113,
   "metadata": {},
   "outputs": [
    {
     "data": {
      "text/plain": [
       "time\n",
       "2019-01-01 00:00:00     NaN\n",
       "2019-01-01 01:00:00   -10.4\n",
       "2019-01-01 02:00:00   -43.1\n",
       "2019-01-01 03:00:00   -24.7\n",
       "2019-01-01 04:00:00    -5.4\n",
       "2019-01-01 05:00:00    -6.6\n",
       "2019-01-01 06:00:00    -5.5\n",
       "2019-01-01 07:00:00    -1.8\n",
       "2019-01-01 08:00:00    15.9\n",
       "2019-01-01 09:00:00     6.7\n",
       "2019-01-01 10:00:00    18.5\n",
       "2019-01-01 11:00:00     0.9\n",
       "2019-01-01 12:00:00    -2.6\n",
       "2019-01-01 13:00:00    -3.7\n",
       "2019-01-01 14:00:00     2.5\n",
       "2019-01-01 15:00:00    11.8\n",
       "2019-01-01 16:00:00    17.9\n",
       "2019-01-01 17:00:00   -21.0\n",
       "2019-01-01 18:00:00    -5.3\n",
       "2019-01-01 19:00:00     1.7\n",
       "2019-01-01 20:00:00   -15.5\n",
       "2019-01-01 21:00:00   -19.9\n",
       "2019-01-01 22:00:00    15.4\n",
       "2019-01-01 23:00:00   -12.5\n",
       "Name: value, dtype: float64"
      ]
     },
     "execution_count": 113,
     "metadata": {},
     "output_type": "execute_result"
    }
   ],
   "source": [
    "# calculate the difference between every hour\n",
    "airquality_indexed.loc[\"2019-01-01\"].value.diff()"
   ]
  },
  {
   "cell_type": "code",
   "execution_count": 112,
   "metadata": {},
   "outputs": [
    {
     "data": {
      "text/plain": [
       "5639.700000000001"
      ]
     },
     "execution_count": 112,
     "metadata": {},
     "output_type": "execute_result"
    }
   ],
   "source": [
    "# summing\n",
    "airquality_indexed.loc[\"2019-01-01\"].value.sum()"
   ]
  },
  {
   "cell_type": "code",
   "execution_count": 18,
   "metadata": {},
   "outputs": [
    {
     "data": {
      "text/html": [
       "<div>\n",
       "<style scoped>\n",
       "    .dataframe tbody tr th:only-of-type {\n",
       "        vertical-align: middle;\n",
       "    }\n",
       "\n",
       "    .dataframe tbody tr th {\n",
       "        vertical-align: top;\n",
       "    }\n",
       "\n",
       "    .dataframe thead th {\n",
       "        text-align: right;\n",
       "    }\n",
       "</style>\n",
       "<table border=\"1\" class=\"dataframe\">\n",
       "  <thead>\n",
       "    <tr style=\"text-align: right;\">\n",
       "      <th></th>\n",
       "      <th>value</th>\n",
       "      <th>airquality_index</th>\n",
       "    </tr>\n",
       "    <tr>\n",
       "      <th>time</th>\n",
       "      <th></th>\n",
       "      <th></th>\n",
       "    </tr>\n",
       "  </thead>\n",
       "  <tbody>\n",
       "    <tr>\n",
       "      <th>2019-01-01 00:00:00</th>\n",
       "      <td>30.70</td>\n",
       "      <td>3.0</td>\n",
       "    </tr>\n",
       "    <tr>\n",
       "      <th>2019-01-01 01:00:00</th>\n",
       "      <td>39.45</td>\n",
       "      <td>3.5</td>\n",
       "    </tr>\n",
       "  </tbody>\n",
       "</table>\n",
       "</div>"
      ],
      "text/plain": [
       "                     value  airquality_index\n",
       "time                                        \n",
       "2019-01-01 00:00:00  30.70               3.0\n",
       "2019-01-01 01:00:00  39.45               3.5"
      ]
     },
     "execution_count": 18,
     "metadata": {},
     "output_type": "execute_result"
    }
   ],
   "source": [
    "# take the rolling average of 2 days\n",
    "ozone.rolling(\"2D\").mean().head(2)"
   ]
  },
  {
   "cell_type": "code",
   "execution_count": 19,
   "metadata": {},
   "outputs": [
    {
     "data": {
      "text/html": [
       "<div>\n",
       "<style scoped>\n",
       "    .dataframe tbody tr th:only-of-type {\n",
       "        vertical-align: middle;\n",
       "    }\n",
       "\n",
       "    .dataframe tbody tr th {\n",
       "        vertical-align: top;\n",
       "    }\n",
       "\n",
       "    .dataframe thead th {\n",
       "        text-align: right;\n",
       "    }\n",
       "</style>\n",
       "<table border=\"1\" class=\"dataframe\">\n",
       "  <thead>\n",
       "    <tr style=\"text-align: right;\">\n",
       "      <th></th>\n",
       "      <th>value</th>\n",
       "      <th>airquality_index</th>\n",
       "    </tr>\n",
       "    <tr>\n",
       "      <th>time</th>\n",
       "      <th></th>\n",
       "      <th></th>\n",
       "    </tr>\n",
       "  </thead>\n",
       "  <tbody>\n",
       "    <tr>\n",
       "      <th>2019-01-01 00:00:00</th>\n",
       "      <td>30.7</td>\n",
       "      <td>3.0</td>\n",
       "    </tr>\n",
       "    <tr>\n",
       "      <th>2019-01-01 01:00:00</th>\n",
       "      <td>78.9</td>\n",
       "      <td>7.0</td>\n",
       "    </tr>\n",
       "    <tr>\n",
       "      <th>2019-01-01 02:00:00</th>\n",
       "      <td>132.9</td>\n",
       "      <td>11.0</td>\n",
       "    </tr>\n",
       "    <tr>\n",
       "      <th>2019-01-01 03:00:00</th>\n",
       "      <td>189.9</td>\n",
       "      <td>15.0</td>\n",
       "    </tr>\n",
       "    <tr>\n",
       "      <th>2019-01-01 04:00:00</th>\n",
       "      <td>247.3</td>\n",
       "      <td>19.0</td>\n",
       "    </tr>\n",
       "    <tr>\n",
       "      <th>...</th>\n",
       "      <td>...</td>\n",
       "      <td>...</td>\n",
       "    </tr>\n",
       "    <tr>\n",
       "      <th>2019-09-30 19:00:00</th>\n",
       "      <td>355348.2</td>\n",
       "      <td>26387.0</td>\n",
       "    </tr>\n",
       "    <tr>\n",
       "      <th>2019-09-30 20:00:00</th>\n",
       "      <td>355369.7</td>\n",
       "      <td>26389.0</td>\n",
       "    </tr>\n",
       "    <tr>\n",
       "      <th>2019-09-30 21:00:00</th>\n",
       "      <td>355390.5</td>\n",
       "      <td>26391.0</td>\n",
       "    </tr>\n",
       "    <tr>\n",
       "      <th>2019-09-30 22:00:00</th>\n",
       "      <td>355416.1</td>\n",
       "      <td>26393.0</td>\n",
       "    </tr>\n",
       "    <tr>\n",
       "      <th>2019-09-30 23:00:00</th>\n",
       "      <td>355440.0</td>\n",
       "      <td>26395.0</td>\n",
       "    </tr>\n",
       "  </tbody>\n",
       "</table>\n",
       "<p>6529 rows × 2 columns</p>\n",
       "</div>"
      ],
      "text/plain": [
       "                        value  airquality_index\n",
       "time                                           \n",
       "2019-01-01 00:00:00      30.7               3.0\n",
       "2019-01-01 01:00:00      78.9               7.0\n",
       "2019-01-01 02:00:00     132.9              11.0\n",
       "2019-01-01 03:00:00     189.9              15.0\n",
       "2019-01-01 04:00:00     247.3              19.0\n",
       "...                       ...               ...\n",
       "2019-09-30 19:00:00  355348.2           26387.0\n",
       "2019-09-30 20:00:00  355369.7           26389.0\n",
       "2019-09-30 21:00:00  355390.5           26391.0\n",
       "2019-09-30 22:00:00  355416.1           26393.0\n",
       "2019-09-30 23:00:00  355440.0           26395.0\n",
       "\n",
       "[6529 rows x 2 columns]"
      ]
     },
     "execution_count": 19,
     "metadata": {},
     "output_type": "execute_result"
    }
   ],
   "source": [
    "# expanding is useful for calculating the cumulative sum\n",
    "ozone.expanding().sum()"
   ]
  },
  {
   "cell_type": "markdown",
   "metadata": {},
   "source": [
    "Plot the difference between the hours of January 1st"
   ]
  },
  {
   "cell_type": "code",
   "execution_count": 118,
   "metadata": {},
   "outputs": [
    {
     "data": {
      "text/plain": [
       "<matplotlib.axes._subplots.AxesSubplot at 0x112b86990>"
      ]
     },
     "execution_count": 118,
     "metadata": {},
     "output_type": "execute_result"
    },
    {
     "data": {
      "image/png": "[encoded data removed]",
      "text/plain": [
       "<Figure size 432x288 with 1 Axes>"
      ]
     },
     "metadata": {
      "needs_background": "light"
     },
     "output_type": "display_data"
    }
   ],
   "source": [
    "airquality_indexed.loc[\"2019-01-01\"].value.diff().plot()"
   ]
  },
  {
   "cell_type": "markdown",
   "metadata": {},
   "source": [
    "Try to plot the rolling mean per week for the month of March"
   ]
  },
  {
   "cell_type": "code",
   "execution_count": 125,
   "metadata": {},
   "outputs": [
    {
     "data": {
      "text/plain": [
       "<matplotlib.axes._subplots.AxesSubplot at 0x112e00c10>"
      ]
     },
     "execution_count": 125,
     "metadata": {},
     "output_type": "execute_result"
    },
    {
     "data": {
      "image/png": "[encoded data removed]",
      "text/plain": [
       "<Figure size 432x288 with 1 Axes>"
      ]
     },
     "metadata": {
      "needs_background": "light"
     },
     "output_type": "display_data"
    }
   ],
   "source": [
    "airquality_indexed.loc[\"2019-03\"].value.rolling(\"7D\").mean().plot()"
   ]
  },
  {
   "cell_type": "markdown",
   "metadata": {},
   "source": [
    "## Shift"
   ]
  },
  {
   "cell_type": "markdown",
   "metadata": {},
   "source": [
    "With `pandas.DataFrame.shift` you can shift the index by a desired number of periods.\n",
    "\n",
    "https://pandas.pydata.org/pandas-docs/stable/reference/api/pandas.DataFrame.shift.html"
   ]
  },
  {
   "cell_type": "markdown",
   "metadata": {},
   "source": [
    "Try adding a column to the dataframe with the value of 'CO' of the previous hour.\n",
    "Then plot the two lines!"
   ]
  },
  {
   "cell_type": "code",
   "execution_count": 136,
   "metadata": {},
   "outputs": [],
   "source": [
    "co_lag_1_day = airquality_indexed.value.shift(periods=1)\n",
    "co_lag_1_day.name = \"value_lag_1\"\n",
    "airquality_with_lag = pd.merge(airquality_indexed, co_lag_1_day, on=\"time\")"
   ]
  },
  {
   "cell_type": "code",
   "execution_count": 140,
   "metadata": {},
   "outputs": [
    {
     "data": {
      "text/plain": [
       "<matplotlib.axes._subplots.AxesSubplot at 0x1170eaf50>"
      ]
     },
     "execution_count": 140,
     "metadata": {},
     "output_type": "execute_result"
    },
    {
     "data": {
      "image/png": "[encoded data removed]",
      "text/plain": [
       "<Figure size 432x288 with 1 Axes>"
      ]
     },
     "metadata": {
      "needs_background": "light"
     },
     "output_type": "display_data"
    }
   ],
   "source": [
    "airquality_with_lag.loc[\"2019-01-01\"][[\"value\", \"value_lag_1\"]].plot()"
   ]
  },
  {
   "cell_type": "markdown",
   "metadata": {},
   "source": [
    "## Resampling"
   ]
  },
  {
   "cell_type": "markdown",
   "metadata": {},
   "source": [
    "A convenient method for conversion the frequency of your dataframe is `resampling`.\n",
    "https://pandas.pydata.org/pandas-docs/stable/reference/api/pandas.DataFrame.resample.html"
   ]
  },
  {
   "cell_type": "code",
   "execution_count": 142,
   "metadata": {},
   "outputs": [
    {
     "data": {
      "text/html": [
       "<div>\n",
       "<style scoped>\n",
       "    .dataframe tbody tr th:only-of-type {\n",
       "        vertical-align: middle;\n",
       "    }\n",
       "\n",
       "    .dataframe tbody tr th {\n",
       "        vertical-align: top;\n",
       "    }\n",
       "\n",
       "    .dataframe thead th {\n",
       "        text-align: right;\n",
       "    }\n",
       "</style>\n",
       "<table border=\"1\" class=\"dataframe\">\n",
       "  <thead>\n",
       "    <tr style=\"text-align: right;\">\n",
       "      <th></th>\n",
       "      <th>value</th>\n",
       "      <th>airquality_index</th>\n",
       "      <th>time_unix</th>\n",
       "    </tr>\n",
       "    <tr>\n",
       "      <th>time</th>\n",
       "      <th></th>\n",
       "      <th></th>\n",
       "      <th></th>\n",
       "    </tr>\n",
       "  </thead>\n",
       "  <tbody>\n",
       "    <tr>\n",
       "      <th>2019-01-01</th>\n",
       "      <td>234.987500</td>\n",
       "      <td>1.166667</td>\n",
       "      <td>1.546342e+09</td>\n",
       "    </tr>\n",
       "    <tr>\n",
       "      <th>2019-01-02</th>\n",
       "      <td>263.770833</td>\n",
       "      <td>1.541667</td>\n",
       "      <td>1.546429e+09</td>\n",
       "    </tr>\n",
       "    <tr>\n",
       "      <th>2019-01-03</th>\n",
       "      <td>323.234783</td>\n",
       "      <td>1.956522</td>\n",
       "      <td>1.546515e+09</td>\n",
       "    </tr>\n",
       "    <tr>\n",
       "      <th>2019-01-04</th>\n",
       "      <td>292.600000</td>\n",
       "      <td>1.833333</td>\n",
       "      <td>1.546601e+09</td>\n",
       "    </tr>\n",
       "    <tr>\n",
       "      <th>2019-01-05</th>\n",
       "      <td>279.329167</td>\n",
       "      <td>1.916667</td>\n",
       "      <td>1.546688e+09</td>\n",
       "    </tr>\n",
       "    <tr>\n",
       "      <th>...</th>\n",
       "      <td>...</td>\n",
       "      <td>...</td>\n",
       "      <td>...</td>\n",
       "    </tr>\n",
       "    <tr>\n",
       "      <th>2019-10-31</th>\n",
       "      <td>NaN</td>\n",
       "      <td>NaN</td>\n",
       "      <td>NaN</td>\n",
       "    </tr>\n",
       "    <tr>\n",
       "      <th>2019-11-01</th>\n",
       "      <td>NaN</td>\n",
       "      <td>NaN</td>\n",
       "      <td>NaN</td>\n",
       "    </tr>\n",
       "    <tr>\n",
       "      <th>2019-11-02</th>\n",
       "      <td>NaN</td>\n",
       "      <td>NaN</td>\n",
       "      <td>NaN</td>\n",
       "    </tr>\n",
       "    <tr>\n",
       "      <th>2019-11-03</th>\n",
       "      <td>NaN</td>\n",
       "      <td>NaN</td>\n",
       "      <td>NaN</td>\n",
       "    </tr>\n",
       "    <tr>\n",
       "      <th>2019-11-04</th>\n",
       "      <td>186.600000</td>\n",
       "      <td>1.000000</td>\n",
       "      <td>1.572872e+09</td>\n",
       "    </tr>\n",
       "  </tbody>\n",
       "</table>\n",
       "<p>308 rows × 3 columns</p>\n",
       "</div>"
      ],
      "text/plain": [
       "                 value  airquality_index     time_unix\n",
       "time                                                  \n",
       "2019-01-01  234.987500          1.166667  1.546342e+09\n",
       "2019-01-02  263.770833          1.541667  1.546429e+09\n",
       "2019-01-03  323.234783          1.956522  1.546515e+09\n",
       "2019-01-04  292.600000          1.833333  1.546601e+09\n",
       "2019-01-05  279.329167          1.916667  1.546688e+09\n",
       "...                ...               ...           ...\n",
       "2019-10-31         NaN               NaN           NaN\n",
       "2019-11-01         NaN               NaN           NaN\n",
       "2019-11-02         NaN               NaN           NaN\n",
       "2019-11-03         NaN               NaN           NaN\n",
       "2019-11-04  186.600000          1.000000  1.572872e+09\n",
       "\n",
       "[308 rows x 3 columns]"
      ]
     },
     "execution_count": 142,
     "metadata": {},
     "output_type": "execute_result"
    }
   ],
   "source": [
    "# Try to resample the dataframe to a daily frequency by taking the mean.\n",
    "airquality_indexed.resample(\"1D\").mean()"
   ]
  },
  {
   "cell_type": "code",
   "execution_count": 149,
   "metadata": {},
   "outputs": [
    {
     "data": {
      "text/plain": [
       "<matplotlib.axes._subplots.AxesSubplot at 0x1159019d0>"
      ]
     },
     "execution_count": 149,
     "metadata": {},
     "output_type": "execute_result"
    },
    {
     "data": {
      "image/png": "[encoded data removed]",
      "text/plain": [
       "<Figure size 432x288 with 1 Axes>"
      ]
     },
     "metadata": {
      "needs_background": "light"
     },
     "output_type": "display_data"
    }
   ],
   "source": [
    "# plot the daily values of 'CO' for January\n",
    "airquality_indexed.loc[\"2019-01\"].value.resample(\"1D\").mean().plot()"
   ]
  },
  {
   "cell_type": "markdown",
   "metadata": {},
   "source": [
    "Besides resampling to a lower frequency (downsampling), you can also resample to a higher frequency (upsampling)."
   ]
  },
  {
   "cell_type": "code",
   "execution_count": 143,
   "metadata": {},
   "outputs": [
    {
     "data": {
      "text/html": [
       "<div>\n",
       "<style scoped>\n",
       "    .dataframe tbody tr th:only-of-type {\n",
       "        vertical-align: middle;\n",
       "    }\n",
       "\n",
       "    .dataframe tbody tr th {\n",
       "        vertical-align: top;\n",
       "    }\n",
       "\n",
       "    .dataframe thead th {\n",
       "        text-align: right;\n",
       "    }\n",
       "</style>\n",
       "<table border=\"1\" class=\"dataframe\">\n",
       "  <thead>\n",
       "    <tr style=\"text-align: right;\">\n",
       "      <th></th>\n",
       "      <th>location</th>\n",
       "      <th>component</th>\n",
       "      <th>value</th>\n",
       "      <th>airquality_index</th>\n",
       "      <th>time_unix</th>\n",
       "    </tr>\n",
       "    <tr>\n",
       "      <th>time</th>\n",
       "      <th></th>\n",
       "      <th></th>\n",
       "      <th></th>\n",
       "      <th></th>\n",
       "      <th></th>\n",
       "    </tr>\n",
       "  </thead>\n",
       "  <tbody>\n",
       "    <tr>\n",
       "      <th>2019-01-01 00:00:00</th>\n",
       "      <td>Amsterdam-Vondelpark</td>\n",
       "      <td>CO</td>\n",
       "      <td>298.1</td>\n",
       "      <td>2</td>\n",
       "      <td>1.546301e+09</td>\n",
       "    </tr>\n",
       "    <tr>\n",
       "      <th>2019-01-01 00:30:00</th>\n",
       "      <td>Amsterdam-Vondelpark</td>\n",
       "      <td>CO</td>\n",
       "      <td>298.1</td>\n",
       "      <td>2</td>\n",
       "      <td>1.546301e+09</td>\n",
       "    </tr>\n",
       "    <tr>\n",
       "      <th>2019-01-01 01:00:00</th>\n",
       "      <td>Amsterdam-Vondelpark</td>\n",
       "      <td>CO</td>\n",
       "      <td>287.7</td>\n",
       "      <td>2</td>\n",
       "      <td>1.546304e+09</td>\n",
       "    </tr>\n",
       "    <tr>\n",
       "      <th>2019-01-01 01:30:00</th>\n",
       "      <td>Amsterdam-Vondelpark</td>\n",
       "      <td>CO</td>\n",
       "      <td>287.7</td>\n",
       "      <td>2</td>\n",
       "      <td>1.546304e+09</td>\n",
       "    </tr>\n",
       "    <tr>\n",
       "      <th>2019-01-01 02:00:00</th>\n",
       "      <td>Amsterdam-Vondelpark</td>\n",
       "      <td>CO</td>\n",
       "      <td>244.6</td>\n",
       "      <td>1</td>\n",
       "      <td>1.546308e+09</td>\n",
       "    </tr>\n",
       "    <tr>\n",
       "      <th>...</th>\n",
       "      <td>...</td>\n",
       "      <td>...</td>\n",
       "      <td>...</td>\n",
       "      <td>...</td>\n",
       "      <td>...</td>\n",
       "    </tr>\n",
       "    <tr>\n",
       "      <th>2019-11-04 11:00:00</th>\n",
       "      <td>Amsterdam-Vondelpark</td>\n",
       "      <td>CO</td>\n",
       "      <td>266.5</td>\n",
       "      <td>2</td>\n",
       "      <td>1.569884e+09</td>\n",
       "    </tr>\n",
       "    <tr>\n",
       "      <th>2019-11-04 11:30:00</th>\n",
       "      <td>Amsterdam-Vondelpark</td>\n",
       "      <td>CO</td>\n",
       "      <td>266.5</td>\n",
       "      <td>2</td>\n",
       "      <td>1.569884e+09</td>\n",
       "    </tr>\n",
       "    <tr>\n",
       "      <th>2019-11-04 12:00:00</th>\n",
       "      <td>Amsterdam-Vondelpark</td>\n",
       "      <td>CO</td>\n",
       "      <td>266.5</td>\n",
       "      <td>2</td>\n",
       "      <td>1.569884e+09</td>\n",
       "    </tr>\n",
       "    <tr>\n",
       "      <th>2019-11-04 12:30:00</th>\n",
       "      <td>Amsterdam-Vondelpark</td>\n",
       "      <td>CO</td>\n",
       "      <td>266.5</td>\n",
       "      <td>2</td>\n",
       "      <td>1.569884e+09</td>\n",
       "    </tr>\n",
       "    <tr>\n",
       "      <th>2019-11-04 13:00:00</th>\n",
       "      <td>Amsterdam-Vondelpark</td>\n",
       "      <td>CO</td>\n",
       "      <td>186.6</td>\n",
       "      <td>1</td>\n",
       "      <td>1.572872e+09</td>\n",
       "    </tr>\n",
       "  </tbody>\n",
       "</table>\n",
       "<p>14763 rows × 5 columns</p>\n",
       "</div>"
      ],
      "text/plain": [
       "                                 location component  value  airquality_index  \\\n",
       "time                                                                           \n",
       "2019-01-01 00:00:00  Amsterdam-Vondelpark        CO  298.1                 2   \n",
       "2019-01-01 00:30:00  Amsterdam-Vondelpark        CO  298.1                 2   \n",
       "2019-01-01 01:00:00  Amsterdam-Vondelpark        CO  287.7                 2   \n",
       "2019-01-01 01:30:00  Amsterdam-Vondelpark        CO  287.7                 2   \n",
       "2019-01-01 02:00:00  Amsterdam-Vondelpark        CO  244.6                 1   \n",
       "...                                   ...       ...    ...               ...   \n",
       "2019-11-04 11:00:00  Amsterdam-Vondelpark        CO  266.5                 2   \n",
       "2019-11-04 11:30:00  Amsterdam-Vondelpark        CO  266.5                 2   \n",
       "2019-11-04 12:00:00  Amsterdam-Vondelpark        CO  266.5                 2   \n",
       "2019-11-04 12:30:00  Amsterdam-Vondelpark        CO  266.5                 2   \n",
       "2019-11-04 13:00:00  Amsterdam-Vondelpark        CO  186.6                 1   \n",
       "\n",
       "                        time_unix  \n",
       "time                               \n",
       "2019-01-01 00:00:00  1.546301e+09  \n",
       "2019-01-01 00:30:00  1.546301e+09  \n",
       "2019-01-01 01:00:00  1.546304e+09  \n",
       "2019-01-01 01:30:00  1.546304e+09  \n",
       "2019-01-01 02:00:00  1.546308e+09  \n",
       "...                           ...  \n",
       "2019-11-04 11:00:00  1.569884e+09  \n",
       "2019-11-04 11:30:00  1.569884e+09  \n",
       "2019-11-04 12:00:00  1.569884e+09  \n",
       "2019-11-04 12:30:00  1.569884e+09  \n",
       "2019-11-04 13:00:00  1.572872e+09  \n",
       "\n",
       "[14763 rows x 5 columns]"
      ]
     },
     "execution_count": 143,
     "metadata": {},
     "output_type": "execute_result"
    }
   ],
   "source": [
    "# Resample the data to a half-hour frequency, using forward filling\n",
    "airquality_indexed.resample(\"0.5H\").ffill()"
   ]
  },
  {
   "cell_type": "code",
   "execution_count": 146,
   "metadata": {},
   "outputs": [
    {
     "data": {
      "text/html": [
       "<div>\n",
       "<style scoped>\n",
       "    .dataframe tbody tr th:only-of-type {\n",
       "        vertical-align: middle;\n",
       "    }\n",
       "\n",
       "    .dataframe tbody tr th {\n",
       "        vertical-align: top;\n",
       "    }\n",
       "\n",
       "    .dataframe thead th {\n",
       "        text-align: right;\n",
       "    }\n",
       "</style>\n",
       "<table border=\"1\" class=\"dataframe\">\n",
       "  <thead>\n",
       "    <tr style=\"text-align: right;\">\n",
       "      <th></th>\n",
       "      <th>location</th>\n",
       "      <th>component</th>\n",
       "      <th>value</th>\n",
       "      <th>airquality_index</th>\n",
       "      <th>time_unix</th>\n",
       "    </tr>\n",
       "    <tr>\n",
       "      <th>time</th>\n",
       "      <th></th>\n",
       "      <th></th>\n",
       "      <th></th>\n",
       "      <th></th>\n",
       "      <th></th>\n",
       "    </tr>\n",
       "  </thead>\n",
       "  <tbody>\n",
       "    <tr>\n",
       "      <th>2019-01-01 00:00:00</th>\n",
       "      <td>Amsterdam-Vondelpark</td>\n",
       "      <td>CO</td>\n",
       "      <td>298.100000</td>\n",
       "      <td>2.000000</td>\n",
       "      <td>1.546301e+09</td>\n",
       "    </tr>\n",
       "    <tr>\n",
       "      <th>2019-01-01 00:30:00</th>\n",
       "      <td>NaN</td>\n",
       "      <td>NaN</td>\n",
       "      <td>292.900000</td>\n",
       "      <td>2.000000</td>\n",
       "      <td>1.546303e+09</td>\n",
       "    </tr>\n",
       "    <tr>\n",
       "      <th>2019-01-01 01:00:00</th>\n",
       "      <td>Amsterdam-Vondelpark</td>\n",
       "      <td>CO</td>\n",
       "      <td>287.700000</td>\n",
       "      <td>2.000000</td>\n",
       "      <td>1.546304e+09</td>\n",
       "    </tr>\n",
       "    <tr>\n",
       "      <th>2019-01-01 01:30:00</th>\n",
       "      <td>NaN</td>\n",
       "      <td>NaN</td>\n",
       "      <td>266.150000</td>\n",
       "      <td>1.500000</td>\n",
       "      <td>1.546306e+09</td>\n",
       "    </tr>\n",
       "    <tr>\n",
       "      <th>2019-01-01 02:00:00</th>\n",
       "      <td>Amsterdam-Vondelpark</td>\n",
       "      <td>CO</td>\n",
       "      <td>244.600000</td>\n",
       "      <td>1.000000</td>\n",
       "      <td>1.546308e+09</td>\n",
       "    </tr>\n",
       "    <tr>\n",
       "      <th>...</th>\n",
       "      <td>...</td>\n",
       "      <td>...</td>\n",
       "      <td>...</td>\n",
       "      <td>...</td>\n",
       "      <td>...</td>\n",
       "    </tr>\n",
       "    <tr>\n",
       "      <th>2019-11-04 11:00:00</th>\n",
       "      <td>NaN</td>\n",
       "      <td>NaN</td>\n",
       "      <td>186.792530</td>\n",
       "      <td>1.002410</td>\n",
       "      <td>1.572865e+09</td>\n",
       "    </tr>\n",
       "    <tr>\n",
       "      <th>2019-11-04 11:30:00</th>\n",
       "      <td>NaN</td>\n",
       "      <td>NaN</td>\n",
       "      <td>186.744398</td>\n",
       "      <td>1.001807</td>\n",
       "      <td>1.572867e+09</td>\n",
       "    </tr>\n",
       "    <tr>\n",
       "      <th>2019-11-04 12:00:00</th>\n",
       "      <td>NaN</td>\n",
       "      <td>NaN</td>\n",
       "      <td>186.696265</td>\n",
       "      <td>1.001205</td>\n",
       "      <td>1.572869e+09</td>\n",
       "    </tr>\n",
       "    <tr>\n",
       "      <th>2019-11-04 12:30:00</th>\n",
       "      <td>NaN</td>\n",
       "      <td>NaN</td>\n",
       "      <td>186.648133</td>\n",
       "      <td>1.000602</td>\n",
       "      <td>1.572871e+09</td>\n",
       "    </tr>\n",
       "    <tr>\n",
       "      <th>2019-11-04 13:00:00</th>\n",
       "      <td>Amsterdam-Vondelpark</td>\n",
       "      <td>CO</td>\n",
       "      <td>186.600000</td>\n",
       "      <td>1.000000</td>\n",
       "      <td>1.572872e+09</td>\n",
       "    </tr>\n",
       "  </tbody>\n",
       "</table>\n",
       "<p>14763 rows × 5 columns</p>\n",
       "</div>"
      ],
      "text/plain": [
       "                                 location component       value  \\\n",
       "time                                                              \n",
       "2019-01-01 00:00:00  Amsterdam-Vondelpark        CO  298.100000   \n",
       "2019-01-01 00:30:00                   NaN       NaN  292.900000   \n",
       "2019-01-01 01:00:00  Amsterdam-Vondelpark        CO  287.700000   \n",
       "2019-01-01 01:30:00                   NaN       NaN  266.150000   \n",
       "2019-01-01 02:00:00  Amsterdam-Vondelpark        CO  244.600000   \n",
       "...                                   ...       ...         ...   \n",
       "2019-11-04 11:00:00                   NaN       NaN  186.792530   \n",
       "2019-11-04 11:30:00                   NaN       NaN  186.744398   \n",
       "2019-11-04 12:00:00                   NaN       NaN  186.696265   \n",
       "2019-11-04 12:30:00                   NaN       NaN  186.648133   \n",
       "2019-11-04 13:00:00  Amsterdam-Vondelpark        CO  186.600000   \n",
       "\n",
       "                     airquality_index     time_unix  \n",
       "time                                                 \n",
       "2019-01-01 00:00:00          2.000000  1.546301e+09  \n",
       "2019-01-01 00:30:00          2.000000  1.546303e+09  \n",
       "2019-01-01 01:00:00          2.000000  1.546304e+09  \n",
       "2019-01-01 01:30:00          1.500000  1.546306e+09  \n",
       "2019-01-01 02:00:00          1.000000  1.546308e+09  \n",
       "...                               ...           ...  \n",
       "2019-11-04 11:00:00          1.002410  1.572865e+09  \n",
       "2019-11-04 11:30:00          1.001807  1.572867e+09  \n",
       "2019-11-04 12:00:00          1.001205  1.572869e+09  \n",
       "2019-11-04 12:30:00          1.000602  1.572871e+09  \n",
       "2019-11-04 13:00:00          1.000000  1.572872e+09  \n",
       "\n",
       "[14763 rows x 5 columns]"
      ]
     },
     "execution_count": 146,
     "metadata": {},
     "output_type": "execute_result"
    }
   ],
   "source": [
    "# you can also interpolate the missing datapoints by using .interpolate\n",
    "airquality_indexed.resample(\"0.5H\").interpolate(method=\"linear\")"
   ]
  },
  {
   "cell_type": "markdown",
   "metadata": {},
   "source": [
    "Resample the data of January to a half-hour frequency and plot the result using method=\"linear\" and also try other methods such as \"spline\"\n",
    "\n",
    "https://pandas.pydata.org/pandas-docs/stable/reference/api/pandas.Series.interpolate.html"
   ]
  },
  {
   "cell_type": "code",
   "execution_count": 164,
   "metadata": {},
   "outputs": [
    {
     "data": {
      "text/plain": [
       "time\n",
       "2019-01-01 00:00:00    298.10\n",
       "2019-01-01 00:30:00    292.90\n",
       "2019-01-01 01:00:00    287.70\n",
       "2019-01-01 01:30:00    266.15\n",
       "2019-01-01 02:00:00    244.60\n",
       "Freq: 30T, Name: value, dtype: float64"
      ]
     },
     "execution_count": 164,
     "metadata": {},
     "output_type": "execute_result"
    }
   ],
   "source": [
    "airquality_indexed.loc[\"2019-01\"].resample(\"0.5H\").interpolate(method=\"linear\").value.head()"
   ]
  },
  {
   "cell_type": "code",
   "execution_count": 165,
   "metadata": {},
   "outputs": [
    {
     "data": {
      "text/plain": [
       "<matplotlib.axes._subplots.AxesSubplot at 0x120e57590>"
      ]
     },
     "execution_count": 165,
     "metadata": {},
     "output_type": "execute_result"
    },
    {
     "data": {
      "image/png": "[encoded data removed]",
      "text/plain": [
       "<Figure size 432x288 with 1 Axes>"
      ]
     },
     "metadata": {
      "needs_background": "light"
     },
     "output_type": "display_data"
    }
   ],
   "source": [
    "airquality_indexed.loc[\"2019-01\"].resample(\"0.5H\").interpolate(method=\"linear\").value.plot()"
   ]
  },
  {
   "cell_type": "code",
   "execution_count": 171,
   "metadata": {},
   "outputs": [
    {
     "data": {
      "text/plain": [
       "time\n",
       "2019-01-01 00:00:00    298.100000\n",
       "2019-01-01 00:30:00    297.899930\n",
       "2019-01-01 01:00:00    287.700000\n",
       "2019-01-01 01:30:00    267.002599\n",
       "2019-01-01 02:00:00    244.600000\n",
       "Freq: 30T, Name: value, dtype: float64"
      ]
     },
     "execution_count": 171,
     "metadata": {},
     "output_type": "execute_result"
    }
   ],
   "source": [
    "airquality_indexed \\\n",
    "    .loc[\"2019-01\"] \\\n",
    "    .resample(\"0.5H\") \\\n",
    "    .interpolate(method=\"spline\", order=2) \\\n",
    "    .value \\\n",
    "    .head()"
   ]
  },
  {
   "cell_type": "code",
   "execution_count": 172,
   "metadata": {},
   "outputs": [
    {
     "data": {
      "text/plain": [
       "<matplotlib.axes._subplots.AxesSubplot at 0x121432690>"
      ]
     },
     "execution_count": 172,
     "metadata": {},
     "output_type": "execute_result"
    },
    {
     "data": {
      "image/png": "[encoded data removed]",
      "text/plain": [
       "<Figure size 432x288 with 1 Axes>"
      ]
     },
     "metadata": {
      "needs_background": "light"
     },
     "output_type": "display_data"
    }
   ],
   "source": [
    "airquality_indexed \\\n",
    "    .loc[\"2019-01\"] \\\n",
    "    .resample(\"0.5H\") \\\n",
    "    .interpolate(method=\"spline\", order=2) \\\n",
    "    .value \\\n",
    "    .plot()"
   ]
  },
  {
   "cell_type": "markdown",
   "metadata": {},
   "source": [
    "## .dt accessor"
   ]
  },
  {
   "cell_type": "markdown",
   "metadata": {},
   "source": [
    "You can use the `.dt` accessor to extract information from the date\n",
    "\n",
    "Overview of all .dt accessors: https://pandas.pydata.org/pandas-docs/stable/user_guide/timeseries.html#time-date-components"
   ]
  },
  {
   "cell_type": "code",
   "execution_count": 173,
   "metadata": {},
   "outputs": [],
   "source": [
    "# Add three columns to the airquality dataframe for day, day of the week, and hour.\n",
    "airquality[\"day\"] = airquality.time.dt.day\n",
    "airquality[\"weekday\"] = airquality.time.dt.dayofweek\n",
    "airquality[\"hour\"] = airquality.time.dt.hour"
   ]
  },
  {
   "cell_type": "code",
   "execution_count": 174,
   "metadata": {},
   "outputs": [
    {
     "data": {
      "text/html": [
       "<div>\n",
       "<style scoped>\n",
       "    .dataframe tbody tr th:only-of-type {\n",
       "        vertical-align: middle;\n",
       "    }\n",
       "\n",
       "    .dataframe tbody tr th {\n",
       "        vertical-align: top;\n",
       "    }\n",
       "\n",
       "    .dataframe thead th {\n",
       "        text-align: right;\n",
       "    }\n",
       "</style>\n",
       "<table border=\"1\" class=\"dataframe\">\n",
       "  <thead>\n",
       "    <tr style=\"text-align: right;\">\n",
       "      <th></th>\n",
       "      <th>time</th>\n",
       "      <th>location</th>\n",
       "      <th>component</th>\n",
       "      <th>value</th>\n",
       "      <th>airquality_index</th>\n",
       "      <th>time_unix</th>\n",
       "      <th>day</th>\n",
       "      <th>weekday</th>\n",
       "      <th>hour</th>\n",
       "    </tr>\n",
       "  </thead>\n",
       "  <tbody>\n",
       "    <tr>\n",
       "      <th>34761</th>\n",
       "      <td>2019-07-28 20:00:00</td>\n",
       "      <td>Amsterdam-Vondelpark</td>\n",
       "      <td>FN</td>\n",
       "      <td>0.16</td>\n",
       "      <td>1</td>\n",
       "      <td>1.564344e+09</td>\n",
       "      <td>28</td>\n",
       "      <td>6</td>\n",
       "      <td>20</td>\n",
       "    </tr>\n",
       "    <tr>\n",
       "      <th>2436</th>\n",
       "      <td>2019-01-16 04:00:00</td>\n",
       "      <td>Amsterdam-Vondelpark</td>\n",
       "      <td>O3</td>\n",
       "      <td>62.60</td>\n",
       "      <td>5</td>\n",
       "      <td>1.547611e+09</td>\n",
       "      <td>16</td>\n",
       "      <td>2</td>\n",
       "      <td>4</td>\n",
       "    </tr>\n",
       "    <tr>\n",
       "      <th>19230</th>\n",
       "      <td>2019-04-26 13:00:00</td>\n",
       "      <td>Amsterdam-Vondelpark</td>\n",
       "      <td>O3</td>\n",
       "      <td>67.70</td>\n",
       "      <td>5</td>\n",
       "      <td>1.556284e+09</td>\n",
       "      <td>26</td>\n",
       "      <td>4</td>\n",
       "      <td>13</td>\n",
       "    </tr>\n",
       "  </tbody>\n",
       "</table>\n",
       "</div>"
      ],
      "text/plain": [
       "                     time              location component  value  \\\n",
       "34761 2019-07-28 20:00:00  Amsterdam-Vondelpark        FN   0.16   \n",
       "2436  2019-01-16 04:00:00  Amsterdam-Vondelpark        O3  62.60   \n",
       "19230 2019-04-26 13:00:00  Amsterdam-Vondelpark        O3  67.70   \n",
       "\n",
       "       airquality_index     time_unix  day  weekday  hour  \n",
       "34761                 1  1.564344e+09   28        6    20  \n",
       "2436                  5  1.547611e+09   16        2     4  \n",
       "19230                 5  1.556284e+09   26        4    13  "
      ]
     },
     "execution_count": 174,
     "metadata": {},
     "output_type": "execute_result"
    }
   ],
   "source": [
    "print(airquality.sample(3))"
   ]
  },
  {
   "cell_type": "markdown",
   "metadata": {},
   "source": [
    "It allows you to do easy filtering as well, for example, select only datapoints where hour == 2"
   ]
  },
  {
   "cell_type": "code",
   "execution_count": 176,
   "metadata": {},
   "outputs": [
    {
     "data": {
      "text/html": [
       "<div>\n",
       "<style scoped>\n",
       "    .dataframe tbody tr th:only-of-type {\n",
       "        vertical-align: middle;\n",
       "    }\n",
       "\n",
       "    .dataframe tbody tr th {\n",
       "        vertical-align: top;\n",
       "    }\n",
       "\n",
       "    .dataframe thead th {\n",
       "        text-align: right;\n",
       "    }\n",
       "</style>\n",
       "<table border=\"1\" class=\"dataframe\">\n",
       "  <thead>\n",
       "    <tr style=\"text-align: right;\">\n",
       "      <th></th>\n",
       "      <th>time</th>\n",
       "      <th>location</th>\n",
       "      <th>component</th>\n",
       "      <th>value</th>\n",
       "      <th>airquality_index</th>\n",
       "      <th>time_unix</th>\n",
       "      <th>day</th>\n",
       "      <th>weekday</th>\n",
       "      <th>hour</th>\n",
       "    </tr>\n",
       "  </thead>\n",
       "  <tbody>\n",
       "    <tr>\n",
       "      <th>17143</th>\n",
       "      <td>2019-04-14 02:00:00</td>\n",
       "      <td>Amsterdam-Vondelpark</td>\n",
       "      <td>NO</td>\n",
       "      <td>-0.2</td>\n",
       "      <td>1</td>\n",
       "      <td>1.555207e+09</td>\n",
       "      <td>14</td>\n",
       "      <td>6</td>\n",
       "      <td>2</td>\n",
       "    </tr>\n",
       "    <tr>\n",
       "      <th>19319</th>\n",
       "      <td>2019-04-27 02:00:00</td>\n",
       "      <td>Amsterdam-Vondelpark</td>\n",
       "      <td>NO</td>\n",
       "      <td>0.1</td>\n",
       "      <td>1</td>\n",
       "      <td>1.556330e+09</td>\n",
       "      <td>27</td>\n",
       "      <td>5</td>\n",
       "      <td>2</td>\n",
       "    </tr>\n",
       "  </tbody>\n",
       "</table>\n",
       "</div>"
      ],
      "text/plain": [
       "                     time              location component  value  \\\n",
       "17143 2019-04-14 02:00:00  Amsterdam-Vondelpark        NO   -0.2   \n",
       "19319 2019-04-27 02:00:00  Amsterdam-Vondelpark        NO    0.1   \n",
       "\n",
       "       airquality_index     time_unix  day  weekday  hour  \n",
       "17143                 1  1.555207e+09   14        6     2  \n",
       "19319                 1  1.556330e+09   27        5     2  "
      ]
     },
     "execution_count": 176,
     "metadata": {},
     "output_type": "execute_result"
    }
   ],
   "source": [
    "airquality.loc[airquality.time.dt.hour == 2,:].sample(2)"
   ]
  }
 ],
 "metadata": {
  "kernelspec": {
   "display_name": "Python 3",
   "language": "python",
   "name": "python3"
  },
  "language_info": {
   "codemirror_mode": {
    "name": "ipython",
    "version": 3
   },
   "file_extension": ".py",
   "mimetype": "text/x-python",
   "name": "python",
   "nbconvert_exporter": "python",
   "pygments_lexer": "ipython3",
   "version": "3.7.3"
  }
 },
 "nbformat": 4,
 "nbformat_minor": 4
}
