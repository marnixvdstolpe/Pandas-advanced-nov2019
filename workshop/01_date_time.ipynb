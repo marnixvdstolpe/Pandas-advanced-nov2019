{
 "cells": [
  {
   "cell_type": "markdown",
   "metadata": {},
   "source": [
    "# Date & time in pandas"
   ]
  },
  {
   "cell_type": "markdown",
   "metadata": {},
   "source": [
    "Topics we will cover:\n",
    "* Converting datetime columns\n",
    "* Date and time as index\n",
    "* Computing statistics using dates & time\n",
    "* Shift\n",
    "* Resampling\n",
    "* .dt accessor\n"
   ]
  },
  {
   "cell_type": "markdown",
   "metadata": {},
   "source": [
    "For this notebook we will use some data we downloaded from data.amsterdam.nl, which is a super useful website for getting open source data about Amsterdam! It's about the airquality in Amsterdam.\n",
    "\n",
    "We have downloaded data from 01/01/2019 until 04/11/2019 for the location Amsterdam Vondelpark. It contains data about 7 airquality components: carbon monoxide (CO), nitric oxide (NO), ozone (O3),  fluorine nitrogen (FN), particulate matter (PM10 and PM25), nitrogen dioxide (NO2). It also contains a column called 'airquality_index' which is an index from 1 to 11 representing the public health impact of air pollution (1 = low risk, 11 = very high risk).\n",
    "\n",
    "Link to data:\n",
    "https://data.amsterdam.nl/datasets/Jlag-G3UBN4sHA/luchtkwaliteit/\n",
    "\n",
    "More information on the data and airquality:\n",
    "https://www.luchtmeetnet.nl/uitleg"
   ]
  },
  {
   "cell_type": "code",
   "execution_count": null,
   "metadata": {},
   "outputs": [],
   "source": [
    "### Steps for use with colab\n",
    "# First step to mount your Google Drive\n",
    "from google.colab import drive\n",
    "drive.mount('/content/drive')\n",
    "%cd /content/drive/My\\ Drive\n",
    "# Clone Pyladies repo \n",
    "#! git clone --recursive https://github.com/pyladiesams/Pandas-advanced-nov2019.git\n",
    "# Install requirements\n",
    "! pip install pandas==0.25.3\n",
    "import pandas as pd\n",
    "# Move into repo\n",
    "%cd /content/drive/My\\ Drive/Pandas-advanced-nov2019/workshop/"
   ]
  },
  {
   "cell_type": "markdown",
   "metadata": {},
   "source": [
    "## 0. Load data"
   ]
  },
  {
   "cell_type": "code",
   "execution_count": 1,
   "metadata": {},
   "outputs": [],
   "source": [
    "import datetime\n",
    "import matplotlib\n",
    "import pandas as pd\n",
    "\n",
    "%matplotlib inline"
   ]
  },
  {
   "cell_type": "code",
   "execution_count": 2,
   "metadata": {},
   "outputs": [],
   "source": [
    "airquality = pd.read_csv(\"./data/airquality.csv\", delimiter=\";\", decimal=\",\")\n",
    "\n",
    "# rename columns from Dutch to English\n",
    "airquality.columns = [\"time\", \"location\", \"component\", \"value\", \"airquality_index\"]"
   ]
  },
  {
   "cell_type": "code",
   "execution_count": 3,
   "metadata": {},
   "outputs": [
    {
     "data": {
      "text/plain": [
       "(45459, 5)"
      ]
     },
     "execution_count": 3,
     "metadata": {},
     "output_type": "execute_result"
    }
   ],
   "source": [
    "airquality.shape"
   ]
  },
  {
   "cell_type": "code",
   "execution_count": 4,
   "metadata": {},
   "outputs": [
    {
     "data": {
      "text/html": [
       "<div>\n",
       "<style scoped>\n",
       "    .dataframe tbody tr th:only-of-type {\n",
       "        vertical-align: middle;\n",
       "    }\n",
       "\n",
       "    .dataframe tbody tr th {\n",
       "        vertical-align: top;\n",
       "    }\n",
       "\n",
       "    .dataframe thead th {\n",
       "        text-align: right;\n",
       "    }\n",
       "</style>\n",
       "<table border=\"1\" class=\"dataframe\">\n",
       "  <thead>\n",
       "    <tr style=\"text-align: right;\">\n",
       "      <th></th>\n",
       "      <th>time</th>\n",
       "      <th>location</th>\n",
       "      <th>component</th>\n",
       "      <th>value</th>\n",
       "      <th>airquality_index</th>\n",
       "    </tr>\n",
       "  </thead>\n",
       "  <tbody>\n",
       "    <tr>\n",
       "      <th>0</th>\n",
       "      <td>2019-01-01 01:00:00+01:00</td>\n",
       "      <td>Amsterdam-Vondelpark</td>\n",
       "      <td>CO</td>\n",
       "      <td>298.1</td>\n",
       "      <td>2</td>\n",
       "    </tr>\n",
       "    <tr>\n",
       "      <th>1</th>\n",
       "      <td>2019-01-01 01:00:00+01:00</td>\n",
       "      <td>Amsterdam-Vondelpark</td>\n",
       "      <td>NO</td>\n",
       "      <td>5.2</td>\n",
       "      <td>1</td>\n",
       "    </tr>\n",
       "  </tbody>\n",
       "</table>\n",
       "</div>"
      ],
      "text/plain": [
       "                        time              location component  value  \\\n",
       "0  2019-01-01 01:00:00+01:00  Amsterdam-Vondelpark        CO  298.1   \n",
       "1  2019-01-01 01:00:00+01:00  Amsterdam-Vondelpark        NO    5.2   \n",
       "\n",
       "   airquality_index  \n",
       "0                 2  \n",
       "1                 1  "
      ]
     },
     "execution_count": 4,
     "metadata": {},
     "output_type": "execute_result"
    }
   ],
   "source": [
    "airquality.head(2)"
   ]
  },
  {
   "cell_type": "markdown",
   "metadata": {},
   "source": [
    "We can already foresee a problem here looking at the time column, namely that it appears to have a timezone"
   ]
  },
  {
   "cell_type": "code",
   "execution_count": 5,
   "metadata": {},
   "outputs": [
    {
     "data": {
      "text/plain": [
       "time                 object\n",
       "location             object\n",
       "component            object\n",
       "value               float64\n",
       "airquality_index      int64\n",
       "dtype: object"
      ]
     },
     "execution_count": 5,
     "metadata": {},
     "output_type": "execute_result"
    }
   ],
   "source": [
    "airquality.dtypes"
   ]
  },
  {
   "cell_type": "markdown",
   "metadata": {},
   "source": [
    "Note that the time column is inferred as an 'object' column by pandas"
   ]
  },
  {
   "cell_type": "markdown",
   "metadata": {},
   "source": [
    "## 1. Converting timestamp columns"
   ]
  },
  {
   "cell_type": "markdown",
   "metadata": {},
   "source": [
    "### 1.1 String to timestamp"
   ]
  },
  {
   "cell_type": "code",
   "execution_count": 128,
   "metadata": {},
   "outputs": [],
   "source": [
    "# Try to convert the 'time' column to a datetime column using pd.to_datetime\n",
    "\n",
    "## your code here ##"
   ]
  },
  {
   "cell_type": "markdown",
   "metadata": {},
   "source": [
    "You could get the following error:\n",
    "\n",
    "`ValueError: Tz-aware datetime.datetime cannot be converted to datetime64 unless utc=True`\n",
    "\n",
    "You can read more about timezones & pandas here: https://pandas.pydata.org/pandas-docs/stable/user_guide/timeseries.html#time-zone-handling\n",
    "\n",
    "Let's try to convert the time column again, now using utc=True. Also, let's do it in a nicer way by specifying a format. In addition to the required datetime string, you can pass a format argument to ensure specific parsing. This could also potentially speed up the conversion considerably.\n",
    "\n",
    "You can find an overview of formats here: https://docs.python.org/3/library/datetime.html#strftime-and-strptime-behavior"
   ]
  },
  {
   "cell_type": "code",
   "execution_count": 1,
   "metadata": {},
   "outputs": [],
   "source": [
    "time_col = [\"time\"]\n",
    "\n",
    "def convert_to_datetime(col, fmt = # specify the format here #):\n",
    "    return ## Your code here ##\n",
    "\n",
    "airquality[time_col] = airquality[time_col].apply(## Your code here ##)\n",
    "\n",
    "print(airquality.dtypes)\n",
    "\n",
    "airquality.head(2)"
   ]
  },
  {
   "cell_type": "markdown",
   "metadata": {},
   "source": [
    "Great! Now we have our time column in UTC time and the type of column is datetime64. Pandas datetime columns are always of type `datetime64[ns]` or `datetime64[ns, tz]`."
   ]
  },
  {
   "cell_type": "code",
   "execution_count": 9,
   "metadata": {},
   "outputs": [],
   "source": [
    "# You can easily convert to other timezones in this way:\n",
    "airquality.time.dt.tz_convert('US/Pacific')"
   ]
  },
  {
   "cell_type": "code",
   "execution_count": 8,
   "metadata": {},
   "outputs": [],
   "source": [
    "# Try to remove the timezone information completely.\n",
    "# Save the dataframe and move on to the next section!\n",
    "\n",
    "## Your code here ##\n",
    "\n",
    "print(airquality.head(2))"
   ]
  },
  {
   "cell_type": "markdown",
   "metadata": {},
   "source": [
    "### 1.2 Datetime to string"
   ]
  },
  {
   "cell_type": "markdown",
   "metadata": {},
   "source": [
    "There might be reasons for you to want to convert from timestamp back to string. In that case you can use **datetime.strftime**."
   ]
  },
  {
   "cell_type": "code",
   "execution_count": 32,
   "metadata": {},
   "outputs": [],
   "source": [
    "# make a copy of the dataframe so we do not alter our original one.\n",
    "airquality_temp = airquality.copy()\n",
    "\n",
    "airquality_temp[\"time\"] = airquality_temp[\"time\"].apply(# your code here #)\n",
    "\n",
    "# check results\n",
    "print(airquality_temp.head(2))\n",
    "print(airquality_temp.dtypes)"
   ]
  },
  {
   "cell_type": "markdown",
   "metadata": {},
   "source": [
    "### 1.3 Handling errors"
   ]
  },
  {
   "cell_type": "markdown",
   "metadata": {},
   "source": [
    "Several errors can happen when you try to convert a column to datetime.\n",
    "Pandas lists three ways to deal with them:\n",
    "- `errors='raise'` raise when unparseable\n",
    "- `errors='ignore'` return original input when unparseable\n",
    "- `errors='coerce'` convert unparseable data to `NaT` (not a time)"
   ]
  },
  {
   "cell_type": "markdown",
   "metadata": {},
   "source": [
    "Let's add some errors to our data by changing the timestamp of the first row to a string."
   ]
  },
  {
   "cell_type": "code",
   "execution_count": null,
   "metadata": {},
   "outputs": [],
   "source": [
    "airquality_errors = airquality.copy()\n",
    "airquality_errors.time.iloc[0] = \"not a time\"\n",
    "print(airquality_errors.iloc[0])"
   ]
  },
  {
   "cell_type": "code",
   "execution_count": 7,
   "metadata": {},
   "outputs": [],
   "source": [
    "# now try to convert the time column, and try some different options for the errors.\n",
    "\n",
    "## Your code here ##"
   ]
  },
  {
   "cell_type": "code",
   "execution_count": 8,
   "metadata": {},
   "outputs": [],
   "source": [
    "# now try to convert a column with numbers, say 'value', and see what happens\n",
    "\n",
    "## Your code here ##"
   ]
  },
  {
   "cell_type": "markdown",
   "metadata": {},
   "source": [
    "That's pretty odd! No matter what error option we specify, the column will still be converted to unix timestamp!\n"
   ]
  },
  {
   "cell_type": "markdown",
   "metadata": {},
   "source": [
    "The main take-away is that converting columns to datetime can be tricky, and you should always be careful when doing so. It's important to check you columns before and after, to make sure the converting succeeded."
   ]
  },
  {
   "cell_type": "markdown",
   "metadata": {},
   "source": [
    "### 1.4 Timestamp to epoch"
   ]
  },
  {
   "cell_type": "markdown",
   "metadata": {},
   "source": [
    "As we saw before, Pandas can convert a column to unix timestamp. The unix time stamp is a way to track time as a running total of seconds since the epoch. Pandas stores timestamp with nanoseconds resolution. The epoch is defined as January 1st, 1970 at UTC."
   ]
  },
  {
   "cell_type": "code",
   "execution_count": null,
   "metadata": {},
   "outputs": [],
   "source": [
    "# convert our column 'time' from timestamp to unix time\n",
    "# 1) make a new column 'time_unix', \n",
    "# 2) cast the timestamp to integer using .astype(int), \n",
    "# 3) convert the column from nanoseconds to seconds\n",
    "\n",
    "# your code here #\n",
    "\n",
    "print(airquality[[\"time\", \"time_unix\"]].sample(3))"
   ]
  },
  {
   "cell_type": "markdown",
   "metadata": {},
   "source": [
    "### 1.5 Creating timestamps"
   ]
  },
  {
   "cell_type": "markdown",
   "metadata": {},
   "source": [
    "You can create your own Pandas timestamps in several ways"
   ]
  },
  {
   "cell_type": "code",
   "execution_count": 10,
   "metadata": {},
   "outputs": [],
   "source": [
    "# Use `datetime.datetime` and `pd.Timestamp` to create a Pandas timestamp\n",
    "pd.Timestamp(datetime.datetime(2019,11,28))"
   ]
  },
  {
   "cell_type": "code",
   "execution_count": 11,
   "metadata": {},
   "outputs": [],
   "source": [
    "# Use plain strings\n",
    "pd.Timestamp(\"2018-01-05\")"
   ]
  },
  {
   "cell_type": "code",
   "execution_count": 12,
   "metadata": {},
   "outputs": [],
   "source": [
    "# Or just use `pd.Timestamp` as is\n",
    "pd.Timestamp(2012, 5, 1)"
   ]
  },
  {
   "cell_type": "code",
   "execution_count": 13,
   "metadata": {},
   "outputs": [],
   "source": [
    "# Generate sequences of fixed-frequency dates and time spans\n",
    "pd.date_range('2018-01-01', periods=3, freq='H')"
   ]
  },
  {
   "cell_type": "code",
   "execution_count": 14,
   "metadata": {},
   "outputs": [],
   "source": [
    "pd.period_range('1/1/2011', freq='M', periods=3)"
   ]
  },
  {
   "cell_type": "markdown",
   "metadata": {},
   "source": [
    "Try to create some example dataframes with different indexes, which you create by using the options above!"
   ]
  },
  {
   "cell_type": "code",
   "execution_count": 15,
   "metadata": {},
   "outputs": [],
   "source": [
    "## Your code here ##"
   ]
  },
  {
   "cell_type": "markdown",
   "metadata": {},
   "source": [
    "## 2. Use datetime as index"
   ]
  },
  {
   "cell_type": "markdown",
   "metadata": {},
   "source": [
    "Now that we succesfully converted our column to datetime we can do some useful stuff with it! One of which is to set our datetime column as the index of our dataframe. Pros according to Pandas:\n",
    "* A large range of dates for various offsets are pre-computed and cached under the hood in order to make generating subsequent date ranges very fast (just have to grab a slice).\n",
    "* Fast shifting using the `shift` and `tshift` method on pandas objects.\n",
    "* Unioning of overlapping `DatetimeIndex` objects with the same frequency is very fast (important for fast data alignment).\n",
    "* Quick access to date fields via properties such as `year`, `month`, etc.\n",
    "* Regularization functions like `snap` and very fast `asof` logic.\n"
   ]
  },
  {
   "cell_type": "code",
   "execution_count": 27,
   "metadata": {},
   "outputs": [],
   "source": [
    "# Make a copy of our origin dataframe\n",
    "# Filter the dataframe on component == \"CO\"\n",
    "# Set the datetime column as an index of your dataframe\n",
    "airquality_indexed = airquality.copy()\n",
    "airquality_indexed = airquality_indexed.loc[airquality_indexed.component == \"CO\"]\n",
    "airquality_indexed = airquality_indexed.set_index(\"time\")"
   ]
  },
  {
   "cell_type": "code",
   "execution_count": 20,
   "metadata": {},
   "outputs": [],
   "source": [
    "print(airquality_indexed.sample(2))"
   ]
  },
  {
   "cell_type": "code",
   "execution_count": 21,
   "metadata": {},
   "outputs": [],
   "source": [
    "# you can use one date to index\n",
    "airquality_indexed.loc[datetime.datetime(2019,1,1),:]"
   ]
  },
  {
   "cell_type": "code",
   "execution_count": 22,
   "metadata": {},
   "outputs": [],
   "source": [
    "# you can also use strings\n",
    "airquality_indexed.loc[\"2019-01-01\"]"
   ]
  },
  {
   "cell_type": "code",
   "execution_count": 23,
   "metadata": {},
   "outputs": [],
   "source": [
    "# you can also slice the dataframe\n",
    "airquality_indexed.loc[:datetime.datetime(2019,1,7)]"
   ]
  },
  {
   "cell_type": "code",
   "execution_count": 24,
   "metadata": {},
   "outputs": [],
   "source": [
    "airquality_indexed.loc[\"2019-01-03\":\"2019-01-07\"]"
   ]
  },
  {
   "cell_type": "code",
   "execution_count": 25,
   "metadata": {},
   "outputs": [],
   "source": [
    "# you can also pass in the year or month\n",
    "airquality_indexed.loc[\"2019-1\"]"
   ]
  },
  {
   "cell_type": "code",
   "execution_count": 26,
   "metadata": {},
   "outputs": [],
   "source": [
    "# you can also use the feature 'truncate'\n",
    "airquality_indexed.truncate(before='2019-02-01', after='2019-03-01')"
   ]
  },
  {
   "cell_type": "markdown",
   "metadata": {},
   "source": [
    "Try to create some plots of the amount of 'CO', for:\n",
    "* Month of January\n",
    "* 1st of July\n",
    "* Before 1st of February but after 1st of September"
   ]
  },
  {
   "cell_type": "code",
   "execution_count": null,
   "metadata": {},
   "outputs": [],
   "source": [
    "## Your code here ##"
   ]
  },
  {
   "cell_type": "markdown",
   "metadata": {},
   "source": [
    "## 3. Computing statistics"
   ]
  },
  {
   "cell_type": "code",
   "execution_count": null,
   "metadata": {},
   "outputs": [],
   "source": [
    "# you can do simple operations like adding and substraction\n",
    "print(\n",
    "    airquality_indexed.loc[\"2019-01-01 00:00:00\"].value - \\\n",
    "    airquality_indexed.loc[\"2019-01-01 01:00:00\"].value\n",
    ")"
   ]
  },
  {
   "cell_type": "code",
   "execution_count": null,
   "metadata": {},
   "outputs": [],
   "source": [
    "# calculate the difference between every hour\n",
    "airquality_indexed.loc[\"2019-01-01\"].value.diff()"
   ]
  },
  {
   "cell_type": "code",
   "execution_count": null,
   "metadata": {},
   "outputs": [],
   "source": [
    "# summing\n",
    "airquality_indexed.loc[\"2019-01-01\"].value.sum()"
   ]
  },
  {
   "cell_type": "code",
   "execution_count": 16,
   "metadata": {},
   "outputs": [],
   "source": [
    "# take the rolling average of 2 days\n",
    "ozone.rolling(\"2D\").mean().head(2)"
   ]
  },
  {
   "cell_type": "code",
   "execution_count": 17,
   "metadata": {},
   "outputs": [
    {
     "data": {
      "text/html": [
       "<div>\n",
       "<style scoped>\n",
       "    .dataframe tbody tr th:only-of-type {\n",
       "        vertical-align: middle;\n",
       "    }\n",
       "\n",
       "    .dataframe tbody tr th {\n",
       "        vertical-align: top;\n",
       "    }\n",
       "\n",
       "    .dataframe thead th {\n",
       "        text-align: right;\n",
       "    }\n",
       "</style>\n",
       "<table border=\"1\" class=\"dataframe\">\n",
       "  <thead>\n",
       "    <tr style=\"text-align: right;\">\n",
       "      <th></th>\n",
       "      <th>location</th>\n",
       "      <th>component</th>\n",
       "      <th>value</th>\n",
       "      <th>airquality_index</th>\n",
       "    </tr>\n",
       "    <tr>\n",
       "      <th>time</th>\n",
       "      <th></th>\n",
       "      <th></th>\n",
       "      <th></th>\n",
       "      <th></th>\n",
       "    </tr>\n",
       "  </thead>\n",
       "  <tbody>\n",
       "    <tr>\n",
       "      <th>2019-01-01 00:00:00</th>\n",
       "      <td>Amsterdam-Vondelpark</td>\n",
       "      <td>O3</td>\n",
       "      <td>30.7</td>\n",
       "      <td>3</td>\n",
       "    </tr>\n",
       "    <tr>\n",
       "      <th>2019-01-01 01:00:00</th>\n",
       "      <td>Amsterdam-Vondelpark</td>\n",
       "      <td>O3</td>\n",
       "      <td>48.2</td>\n",
       "      <td>4</td>\n",
       "    </tr>\n",
       "  </tbody>\n",
       "</table>\n",
       "</div>"
      ],
      "text/plain": [
       "                                 location component  value  airquality_index\n",
       "time                                                                        \n",
       "2019-01-01 00:00:00  Amsterdam-Vondelpark        O3   30.7                 3\n",
       "2019-01-01 01:00:00  Amsterdam-Vondelpark        O3   48.2                 4"
      ]
     },
     "execution_count": 17,
     "metadata": {},
     "output_type": "execute_result"
    }
   ],
   "source": [
    "# expanding is useful for calculating the cumulative sum\n",
    "ozone.expanding().sum()"
   ]
  },
  {
   "cell_type": "markdown",
   "metadata": {},
   "source": [
    "Plot the difference between the hours of January 1st"
   ]
  },
  {
   "cell_type": "code",
   "execution_count": null,
   "metadata": {},
   "outputs": [],
   "source": [
    "## Your code here"
   ]
  },
  {
   "cell_type": "markdown",
   "metadata": {},
   "source": [
    "Try to plot the rolling mean per week for the month of March"
   ]
  },
  {
   "cell_type": "code",
   "execution_count": null,
   "metadata": {},
   "outputs": [],
   "source": [
    "## Your code here"
   ]
  },
  {
   "cell_type": "markdown",
   "metadata": {},
   "source": [
    "## Shift"
   ]
  },
  {
   "cell_type": "markdown",
   "metadata": {},
   "source": [
    "With `pandas.DataFrame.shift` you can shift the index by a desired number of periods.\n",
    "\n",
    "https://pandas.pydata.org/pandas-docs/stable/reference/api/pandas.DataFrame.shift.html"
   ]
  },
  {
   "cell_type": "markdown",
   "metadata": {},
   "source": [
    "Try adding a column to the dataframe with the value of 'CO' of the previous hour.\n",
    "Then plot the two lines!"
   ]
  },
  {
   "cell_type": "code",
   "execution_count": null,
   "metadata": {},
   "outputs": [],
   "source": [
    "## Your code here"
   ]
  },
  {
   "cell_type": "markdown",
   "metadata": {},
   "source": [
    "## Resampling"
   ]
  },
  {
   "cell_type": "markdown",
   "metadata": {},
   "source": [
    "A convenient method for conversion the frequency of your dataframe is `resampling`.\n",
    "https://pandas.pydata.org/pandas-docs/stable/reference/api/pandas.DataFrame.resample.html"
   ]
  },
  {
   "cell_type": "code",
   "execution_count": 29,
   "metadata": {},
   "outputs": [],
   "source": [
    "# Try to resample the dataframe to a daily frequency by taking the mean.\n",
    "airquality_indexed.resample(\"1D\").mean()"
   ]
  },
  {
   "cell_type": "code",
   "execution_count": null,
   "metadata": {},
   "outputs": [],
   "source": [
    "# plot the daily values of 'CO' for January\n",
    "## Your code here"
   ]
  },
  {
   "cell_type": "markdown",
   "metadata": {},
   "source": [
    "Besides resampling to a lower frequency (downsampling), you can also resample to a higher frequency (upsampling)."
   ]
  },
  {
   "cell_type": "code",
   "execution_count": 30,
   "metadata": {},
   "outputs": [],
   "source": [
    "# Resample the data to a half-hour frequency, using forward filling\n",
    "airquality_indexed.resample(\"0.5H\").ffill()"
   ]
  },
  {
   "cell_type": "code",
   "execution_count": null,
   "metadata": {},
   "outputs": [],
   "source": [
    "# you can also interpolate the missing datapoints by using .interpolate\n",
    "airquality_indexed.resample(\"0.5H\").interpolate(method=\"linear\")"
   ]
  },
  {
   "cell_type": "markdown",
   "metadata": {},
   "source": [
    "Resample the data of January to a half-hour frequency and plot the result using method=\"linear\" and also try other methods such as \"spline\"\n",
    "\n",
    "https://pandas.pydata.org/pandas-docs/stable/reference/api/pandas.Series.interpolate.html"
   ]
  },
  {
   "cell_type": "code",
   "execution_count": 31,
   "metadata": {},
   "outputs": [],
   "source": [
    "## Your code here"
   ]
  },
  {
   "cell_type": "markdown",
   "metadata": {},
   "source": [
    "## .dt accessor"
   ]
  },
  {
   "cell_type": "markdown",
   "metadata": {},
   "source": [
    "You can use the `.dt` accessor to extract information from the date\n",
    "\n",
    "Overview of all .dt accessors: https://pandas.pydata.org/pandas-docs/stable/user_guide/timeseries.html#time-date-components"
   ]
  },
  {
   "cell_type": "code",
   "execution_count": 32,
   "metadata": {},
   "outputs": [],
   "source": [
    "# Add three columns to the airquality dataframe for day, day of the week, and hour.\n",
    "\n",
    "## Your code here"
   ]
  },
  {
   "cell_type": "code",
   "execution_count": 34,
   "metadata": {},
   "outputs": [],
   "source": [
    "print(airquality.sample(3))"
   ]
  },
  {
   "cell_type": "markdown",
   "metadata": {},
   "source": [
    "It allows you to do easy filtering as well, for example, select only datapoints where hour == 2"
   ]
  },
  {
   "cell_type": "code",
   "execution_count": 37,
   "metadata": {},
   "outputs": [],
   "source": [
    "## Your code here"
   ]
  },
  {
   "cell_type": "markdown",
   "metadata": {},
   "source": [
    "# The end\n",
    "\n",
    "That's the end of this notebook!\n",
    "Feel free to play around some more with the data. Some ideas of what you can do:\n",
    "- Try to fit a model on the data of January and February and predict the level of 'CO' for the month of March\n",
    "- Try adding features to the model such as the day of the week, and the hour of the day and see if your model becomes better\n",
    "- Make some very creative plots of the different components over different time periods!"
   ]
  }
 ],
 "metadata": {
  "kernelspec": {
   "display_name": "Python 3",
   "language": "python",
   "name": "python3"
  },
  "language_info": {
   "codemirror_mode": {
    "name": "ipython",
    "version": 3
   },
   "file_extension": ".py",
   "mimetype": "text/x-python",
   "name": "python",
   "nbconvert_exporter": "python",
   "pygments_lexer": "ipython3",
   "version": "3.7.3"
  }
 },
 "nbformat": 4,
 "nbformat_minor": 4
}
